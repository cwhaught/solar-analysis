{
 "cells": [
  {
   "metadata": {
    "ExecuteTime": {
     "end_time": "2025-09-19T04:12:58.851424Z",
     "start_time": "2025-09-19T04:12:58.284212Z"
    }
   },
   "cell_type": "code",
   "source": [
    "# Cell 1: Module-based OAuth setup\n",
    "import sys\n",
    "sys.path.append('../src')\n",
    "\n",
    "from oauth_setup import EnphaseOAuthSetup, setup_oauth, verify_setup\n",
    "\n",
    "print(\"=== ENPHASE OAUTH SETUP (SECURE MODULE) ===\\n\")\n",
    "\n",
    "print(\"This notebook uses a secure OAuth module that:\")\n",
    "print(\"- Never hardcodes credentials\")\n",
    "print(\"- Stores credentials securely in .env file\")\n",
    "print(\"- Follows OAuth 2.0 best practices\")\n",
    "print(\"- Checks security configurations\")\n",
    "print()\n",
    "\n",
    "# Check if setup is already complete\n",
    "if verify_setup(\"../.env\"):\n",
    "    print(\"OAuth setup is already complete and working!\")\n",
    "    print(\"Skip to Cell 3 to view your setup, or re-run Cell 2 to reconfigure.\")\n",
    "else:\n",
    "    print(\"OAuth setup required. Run Cell 2 to begin setup.\")"
   ],
   "id": "7c822e391f038895",
   "outputs": [
    {
     "name": "stderr",
     "output_type": "stream",
     "text": [
      "/Users/christopherhaught/projects/power-usage-and-consumption/.venv/lib/python3.9/site-packages/urllib3/__init__.py:35: NotOpenSSLWarning: urllib3 v2 only supports OpenSSL 1.1.1+, currently the 'ssl' module is compiled with 'LibreSSL 2.8.3'. See: https://github.com/urllib3/urllib3/issues/3020\n",
      "  warnings.warn(\n"
     ]
    },
    {
     "name": "stdout",
     "output_type": "stream",
     "text": [
      "=== ENPHASE OAUTH SETUP (SECURE MODULE) ===\n",
      "\n",
      "This notebook uses a secure OAuth module that:\n",
      "- Never hardcodes credentials\n",
      "- Stores credentials securely in .env file\n",
      "- Follows OAuth 2.0 best practices\n",
      "- Checks security configurations\n",
      "\n",
      "OAuth setup is already complete and working!\n",
      "Skip to Cell 3 to view your setup, or re-run Cell 2 to reconfigure.\n"
     ]
    }
   ],
   "execution_count": 1
  },
  {
   "metadata": {
    "ExecuteTime": {
     "end_time": "2025-09-19T04:14:09.430797Z",
     "start_time": "2025-09-19T04:13:05.058842Z"
    }
   },
   "cell_type": "code",
   "source": [
    "# Cell 2: Run complete OAuth setup\n",
    "print(\"=== RUNNING OAUTH SETUP ===\\n\")\n",
    "\n",
    "# Run the complete setup process\n",
    "success = setup_oauth(\"../.env\")\n",
    "\n",
    "if success:\n",
    "    print(\"\\nOAuth setup completed successfully!\")\n",
    "    print(\"You can now use the EnphaseClient in other notebooks.\")\n",
    "else:\n",
    "    print(\"\\nOAuth setup failed. Please check your credentials and try again.\")"
   ],
   "id": "f3cc861e9e082147",
   "outputs": [
    {
     "name": "stdout",
     "output_type": "stream",
     "text": [
      "=== RUNNING OAUTH SETUP ===\n",
      "\n",
      "=== ENPHASE OAUTH SETUP ===\n",
      "\n",
      "Enter your Enphase developer credentials:\n",
      "(Get these from https://developer.enphase.com/)\n",
      "\n",
      "Step 1: Authorize the application\n",
      "Authorization URL: https://api.enphaseenergy.com/oauth/authorize?response_type=code&client_id=c49d87e1409c37f6d59309fe19f30294&redirect_uri=https://api.enphaseenergy.com/oauth/redirect_uri&scope=read\n",
      "Browser opened automatically\n",
      "Step 2: Exchanging code for tokens...\n",
      "Step 3: Testing API access...\n",
      "\n",
      "SUCCESS! OAuth setup complete\n",
      "Found 1 system(s)\n",
      "  System 1: 4136754 (UnknownW)\n",
      "\n",
      "Credentials saved securely to ../.env\n",
      "\n",
      "OAuth setup completed successfully!\n",
      "You can now use the EnphaseClient in other notebooks.\n"
     ]
    }
   ],
   "execution_count": 2
  },
  {
   "metadata": {
    "ExecuteTime": {
     "end_time": "2025-09-19T04:16:01.070837Z",
     "start_time": "2025-09-19T04:16:00.606565Z"
    }
   },
   "cell_type": "code",
   "source": [
    "# Cell 3: Verify setup and show configuration\n",
    "import sys\n",
    "sys.path.append('../src')\n",
    "\n",
    "from oauth_setup import EnphaseOAuthSetup\n",
    "from enphase_client import EnphaseClient\n",
    "\n",
    "print(\"=== SETUP VERIFICATION ===\\n\")\n",
    "\n",
    "# Initialize OAuth setup\n",
    "oauth_setup = EnphaseOAuthSetup(\"../.env\")\n",
    "\n",
    "# Check security configuration\n",
    "security_checks = oauth_setup.check_security_setup()\n",
    "\n",
    "print(\"Security checks:\")\n",
    "for check, status in security_checks.items():\n",
    "    icon = \"✅\" if status else \"❌\"\n",
    "    print(f\"  {check}: {icon}\")\n",
    "\n",
    "# Load and display configuration (without secrets)\n",
    "credentials = oauth_setup.load_credentials()\n",
    "\n",
    "print(f\"\\nConfiguration status:\")\n",
    "print(f\"  Client ID: {'✅' if credentials['ENPHASE_CLIENT_ID'] else '❌'}\")\n",
    "print(f\"  Client Secret: {'✅' if credentials['ENPHASE_CLIENT_SECRET'] else '❌'}\")\n",
    "print(f\"  API Key: {'✅' if credentials['ENPHASE_API_KEY'] else '❌'}\")\n",
    "print(f\"  Access Token: {'✅' if credentials['ENPHASE_ACCESS_TOKEN'] else '❌'}\")\n",
    "print(f\"  System ID: {credentials['ENPHASE_SYSTEM_ID'] or '❌'}\")\n",
    "\n",
    "# Test EnphaseClient integration\n",
    "if all(credentials[key] for key in ['ENPHASE_ACCESS_TOKEN', 'ENPHASE_API_KEY', 'ENPHASE_SYSTEM_ID']):\n",
    "    print(f\"\\n=== TESTING CLIENT INTEGRATION ===\")\n",
    "\n",
    "    try:\n",
    "        client = EnphaseClient(\n",
    "            access_token=credentials['ENPHASE_ACCESS_TOKEN'],\n",
    "            api_key=credentials['ENPHASE_API_KEY'],\n",
    "            system_id=credentials['ENPHASE_SYSTEM_ID']\n",
    "        )\n",
    "\n",
    "        health = client.check_api_health()\n",
    "        if health['api_accessible']:\n",
    "            print(\"✅ EnphaseClient integration working\")\n",
    "            print(f\"   Current power: {health['current_power']} W\")\n",
    "            print(f\"   Energy today: {health['energy_today']:.1f} kWh\")\n",
    "        else:\n",
    "            print(\"❌ API access issue\")\n",
    "\n",
    "    except Exception as e:\n",
    "        print(f\"❌ Client integration failed: {e}\")\n",
    "\n",
    "print(f\"\\nSetup complete! You can now use notebooks 05 (testing) and others.\")"
   ],
   "id": "323f137956d7fc95",
   "outputs": [
    {
     "name": "stdout",
     "output_type": "stream",
     "text": [
      "=== SETUP VERIFICATION ===\n",
      "\n",
      "Security checks:\n",
      "  env_exists: ✅\n",
      "  gitignore_exists: ✅\n",
      "  env_in_gitignore: ✅\n",
      "  secure_permissions: ✅\n",
      "\n",
      "Configuration status:\n",
      "  Client ID: ✅\n",
      "  Client Secret: ✅\n",
      "  API Key: ✅\n",
      "  Access Token: ✅\n",
      "  System ID: 4136754\n",
      "\n",
      "=== TESTING CLIENT INTEGRATION ===\n",
      "✅ EnphaseClient integration working\n",
      "   Current power: 0 W\n",
      "   Energy today: 0.0 kWh\n",
      "\n",
      "Setup complete! You can now use notebooks 05 (testing) and others.\n"
     ]
    }
   ],
   "execution_count": 6
  },
  {
   "metadata": {},
   "cell_type": "code",
   "outputs": [],
   "execution_count": null,
   "source": "",
   "id": "fafdeebffda6d7d4"
  }
 ],
 "metadata": {
  "kernelspec": {
   "display_name": "Python 3",
   "language": "python",
   "name": "python3"
  },
  "language_info": {
   "codemirror_mode": {
    "name": "ipython",
    "version": 2
   },
   "file_extension": ".py",
   "mimetype": "text/x-python",
   "name": "python",
   "nbconvert_exporter": "python",
   "pygments_lexer": "ipython2",
   "version": "2.7.6"
  }
 },
 "nbformat": 4,
 "nbformat_minor": 5
}
