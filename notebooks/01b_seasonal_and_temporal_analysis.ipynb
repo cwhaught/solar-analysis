{
 "cells": [
  {
   "cell_type": "markdown",
   "metadata": {},
   "source": [
    "# Seasonal and Temporal Analysis\n",
    "\n",
    "This notebook provides detailed analysis of seasonal patterns, daily cycles, and temporal trends in solar energy production.\n",
    "\n",
    "**Key Analysis:**\n",
    "- Monthly and seasonal production patterns\n",
    "- Daily production curves and peak hours\n",
    "- Year-over-year trends\n",
    "- System performance over time"
   ]
  },
  {
   "cell_type": "code",
   "metadata": {
    "ExecuteTime": {
     "end_time": "2025-09-26T01:19:46.212979Z",
     "start_time": "2025-09-26T01:19:46.159392Z"
    }
   },
   "source": "# Import libraries\nimport sys\nsys.path.append('../src')\n\n# Use standardized notebook utilities\nfrom core.notebook_utils import load_with_analysis\nfrom visualization.plot_config import setup_notebook_plots, SolarPlotConfig\nfrom visualization.solar_charts import SolarVisualizationSuite\nimport pandas as pd\nimport matplotlib.pyplot as plt\nimport seaborn as sns\nimport numpy as np\nfrom datetime import datetime as dt, timedelta\n\n# Set up plotting with solar-specific styling\nplot_config = setup_notebook_plots(figsize=(12, 8))\nSOLAR_COLORS = plot_config.SOLAR_COLORS\n\nprint(\"📈 Solar Energy Data Analysis - Seasonal & Temporal Patterns\")\nprint(\"=\" * 65)",
   "outputs": [],
   "execution_count": null
  },
  {
   "cell_type": "markdown",
   "metadata": {},
   "source": [
    "## 1. Load Data"
   ]
  },
  {
   "cell_type": "code",
   "metadata": {
    "ExecuteTime": {
     "end_time": "2025-09-26T01:19:46.461414Z",
     "start_time": "2025-09-26T01:19:46.218035Z"
    }
   },
   "source": "# Load all data using standardized notebook utilities\nnotebook_data = load_with_analysis()\n\n# Extract key components\ndata_manager = notebook_data['data_manager']\ndetector = notebook_data['detector'] \nlocation = notebook_data['location']\ndaily_data = notebook_data['daily_data']\ncsv_data = notebook_data['csv_data']\n\nprint(f\"✅ Loaded {len(daily_data)} days of daily data\")\nprint(f\"✅ Loaded {len(csv_data):,} 15-minute intervals\")\nprint(f\"📅 Date range: {daily_data.index.min().date()} to {daily_data.index.max().date()}\")\n\n# Add location-specific context\nprint(f\"\\n🌍 Location-Specific Analysis:\")\nprint(f\"  System location: {location.location_name}\")\nprint(f\"  Climate type: {location.get_location_summary()['climate_type']}\")\n\n# Calculate expected vs actual patterns based on location\ntoday = dt.now().date()\nexpected_sunrise, expected_sunset = location.get_sunrise_sunset(today)\nexpected_daylight = expected_sunset - expected_sunrise\n\nprint(f\"  Expected daylight hours (today): {expected_daylight:.1f} hours\")\nprint(f\"  Summer daylight range: {location.get_location_summary()['summer_daylight_hours']:.1f} hours\")\nprint(f\"  Winter daylight range: {location.get_location_summary()['winter_daylight_hours']:.1f} hours\")",
   "outputs": [
    {
     "name": "stderr",
     "output_type": "stream",
     "text": [
      "INFO:core.data_manager:Loading CSV data from ../data/raw/4136754_custom_report.csv\n",
      "INFO:core.data_manager:Loaded 70272 CSV records from 2023-09-16 00:00:00 to 2025-09-16 23:45:00\n",
      "INFO:core.data_manager:Loading API data for last 30 days\n"
     ]
    },
    {
     "name": "stdout",
     "output_type": "stream",
     "text": [
      "📊 Determining Best Data Source...\n",
      "✅ Using REAL Enphase API credentials!\n",
      "   📈 Will attempt to fetch live data from your solar system\n",
      "   🎯 PRIORITY: Real Enphase API data from your solar system\n",
      "   📡 Will attempt live API data first\n",
      "   📁 CSV fallback: ../data/raw/4136754_custom_report.csv\n",
      "\n",
      "📋 Available Data Sources (in priority order):\n",
      "   🎯 SELECTED: 📈 REAL CSV DATA - Real solar panel CSV data through 2025\n",
      "      Available: 🎭 SYNTHETIC/MOCK DATA - Synthetic data for Holly Springs, NC (ends June 2024)\n",
      "      Available: 🎭 GENERIC MOCK DATA - Generic synthetic data (ends March 2024)\n",
      "✅ Notebook environment initialized for Holly Springs, NC\n"
     ]
    },
    {
     "name": "stderr",
     "output_type": "stream",
     "text": [
      "WARNING:core.data_manager:No API data retrieved\n"
     ]
    },
    {
     "name": "stdout",
     "output_type": "stream",
     "text": [
      "Error getting lifetime energy: 401\n",
      "\n",
      "📈 Solar Data Loaded Successfully:\n",
      "   🎯 DATA TYPE: 📈 REAL API DATA (with CSV fallback)\n",
      "   📡 Source: 📁 CSV DATA\n",
      "   📁 Source: CSV file (API failed, using fallback)\n",
      "   📊 CSV Records: 70,272\n",
      "   📅 CSV Date range: 2023-09-16 to 2025-09-16\n",
      "   📅 Data recency: ✅ RECENT (8 days old)\n",
      "   🕐 Latest data point: 2025-09-16\n",
      "\n",
      "✅ SUCCESS: Using REAL solar production data!\n",
      "   📈 Authentic solar panel data (not synthetic)\n",
      "   📊 Contains data through 2025\n",
      "   ℹ️ Note: API returned 401 (expired token), but CSV data is recent\n",
      "\n",
      "🌍 Location Context:\n",
      "  System location: Holly Springs, NC\n",
      "  Coordinates: 35.663°N, -78.844°W\n",
      "  Climate type: Temperate\n",
      "  Timezone: America/Raleigh\n",
      "✅ Loaded 732 days of daily data\n",
      "✅ Loaded 70,272 15-minute intervals\n",
      "📅 Date range: 2023-09-16 to 2025-09-16\n",
      "\n",
      "🌍 Location-Specific Analysis:\n",
      "  System location: Holly Springs, NC\n",
      "  Climate type: Temperate\n",
      "  Expected daylight hours (today): 11.8 hours\n",
      "  Summer daylight range: 14.4 hours\n",
      "  Winter daylight range: 9.6 hours\n"
     ]
    }
   ],
   "execution_count": 2
  },
  {
   "cell_type": "code",
   "metadata": {
    "ExecuteTime": {
     "end_time": "2025-09-26T01:19:46.473177Z",
     "start_time": "2025-09-26T01:19:46.465551Z"
    }
   },
   "source": [
    "# Monthly analysis\n",
    "monthly_stats = daily_data.groupby(daily_data.index.month).agg({\n",
    "    'Production (kWh)': ['mean', 'sum', 'std', 'max', 'min']\n",
    "}).round(2)\n",
    "\n",
    "monthly_stats.columns = ['Avg Daily', 'Total', 'Std Dev', 'Peak Day', 'Min Day']\n",
    "\n",
    "print(\"=== MONTHLY PRODUCTION STATISTICS ===\")\n",
    "month_names = ['Jan', 'Feb', 'Mar', 'Apr', 'May', 'Jun', 'Jul', 'Aug', 'Sep', 'Oct', 'Nov', 'Dec']\n",
    "monthly_stats.index = [month_names[i-1] for i in monthly_stats.index]\n",
    "print(monthly_stats)\n",
    "\n",
    "# Find best and worst months\n",
    "best_month = monthly_stats['Avg Daily'].idxmax()\n",
    "worst_month = monthly_stats['Avg Daily'].idxmin()\n",
    "print(f\"\\n🌞 Best production month: {best_month} ({monthly_stats.loc[best_month, 'Avg Daily']:.1f} kWh/day avg)\")\n",
    "print(f\"☁️ Lowest production month: {worst_month} ({monthly_stats.loc[worst_month, 'Avg Daily']:.1f} kWh/day avg)\")\n",
    "print(f\"📊 Seasonal variation: {monthly_stats['Avg Daily'].max() / monthly_stats['Avg Daily'].min():.1f}x difference\")"
   ],
   "outputs": [
    {
     "name": "stdout",
     "output_type": "stream",
     "text": [
      "=== MONTHLY PRODUCTION STATISTICS ===\n",
      "     Avg Daily    Total  Std Dev  Peak Day  Min Day\n",
      "Jan      30.43  1886.59    14.02     45.00     2.35\n",
      "Feb      32.78  1868.40    17.65     50.94     3.23\n",
      "Mar      38.75  2402.71    16.78     58.33     4.20\n",
      "Apr      43.41  2604.60    14.99     59.91     6.47\n",
      "May      40.72  2524.87    15.08     61.33     6.09\n",
      "Jun      46.64  2798.43     9.41     59.21    10.78\n",
      "Jul      41.62  2580.21    12.39     58.25     7.14\n",
      "Aug      39.44  2445.02    14.02     57.45     8.12\n",
      "Sep      35.14  2143.52    16.05     56.50     2.16\n",
      "Oct      40.82  2530.87    11.27     53.38     2.68\n",
      "Nov      31.70  1901.76    13.41     48.88     3.03\n",
      "Dec      27.60  1711.36    13.32     41.19     0.63\n",
      "\n",
      "🌞 Best production month: Jun (46.6 kWh/day avg)\n",
      "☁️ Lowest production month: Dec (27.6 kWh/day avg)\n",
      "📊 Seasonal variation: 1.7x difference\n"
     ]
    }
   ],
   "execution_count": 3
  },
  {
   "cell_type": "markdown",
   "source": "## 2. Monthly Production Analysis",
   "metadata": {}
  },
  {
   "cell_type": "code",
   "metadata": {
    "ExecuteTime": {
     "end_time": "2025-09-26T01:19:46.674263Z",
     "start_time": "2025-09-26T01:19:46.481105Z"
    }
   },
   "source": "# Initialize SolarVisualizationSuite for professional seasonal analysis\nviz_suite = SolarVisualizationSuite(style='default')\n\n# Prepare data for visualization\nviz_data = daily_data.reset_index().rename(columns={\n    'Date/Time': 'date',\n    'Production (kWh)': 'production'\n})\n\n# Ensure plots directory exists\nfrom pathlib import Path\nPath(\"../plots\").mkdir(exist_ok=True)\n\n# Create comprehensive seasonal analysis dashboard\nprint(\"🎨 Creating comprehensive seasonal analysis dashboard...\")\nseasonal_dashboard = viz_suite.create_seasonal_analysis_dashboard(\n    daily_data=viz_data,\n    title=\"Solar Energy Seasonal & Temporal Analysis\",\n    save_path=\"../plots/seasonal_analysis_dashboard.png\"\n)\n\nplt.show()\n\nprint(\"✨ Seasonal dashboard created successfully!\")\nprint(\"📄 Saved to: ../plots/seasonal_analysis_dashboard.png\")",
   "outputs": [],
   "execution_count": null
  },
  {
   "cell_type": "markdown",
   "metadata": {},
   "source": [
    "## 3. Daily Production Patterns"
   ]
  },
  {
   "cell_type": "code",
   "metadata": {
    "ExecuteTime": {
     "end_time": "2025-09-26T01:19:46.684670Z",
     "start_time": "2025-09-26T01:19:46.678976Z"
    }
   },
   "source": [
    "# Hourly patterns analysis\n",
    "if len(csv_data) > 0:\n",
    "    csv_data['Hour'] = csv_data.index.hour\n",
    "    csv_data['Month'] = csv_data.index.month\n",
    "    \n",
    "    # Average hourly production\n",
    "    hourly_avg = csv_data.groupby('Hour')['Production (kWh)'].mean()\n",
    "    \n",
    "    print(\"=== DAILY PRODUCTION PATTERNS ===\")\n",
    "    print(f\"Peak production hour: {hourly_avg.idxmax()}:00 ({hourly_avg.max():.3f} kWh avg)\")\n",
    "    print(f\"First significant production: {hourly_avg[hourly_avg > 0.01].index.min()}:00\")\n",
    "    print(f\"Last significant production: {hourly_avg[hourly_avg > 0.01].index.max()}:00\")\n",
    "    \n",
    "    # Daylight hours analysis\n",
    "    daylight_hours = hourly_avg[hourly_avg > 0.01]\n",
    "    print(f\"Productive daylight hours: {len(daylight_hours)} hours\")\n",
    "    print(f\"Peak period (>50% of max): {len(hourly_avg[hourly_avg > hourly_avg.max()*0.5])} hours\")"
   ],
   "outputs": [
    {
     "name": "stdout",
     "output_type": "stream",
     "text": [
      "=== DAILY PRODUCTION PATTERNS ===\n",
      "Peak production hour: 11:00 (1.386 kWh avg)\n",
      "First significant production: 6:00\n",
      "Last significant production: 19:00\n",
      "Productive daylight hours: 14 hours\n",
      "Peak period (>50% of max): 7 hours\n"
     ]
    }
   ],
   "execution_count": 5
  },
  {
   "cell_type": "code",
   "metadata": {
    "ExecuteTime": {
     "end_time": "2025-09-26T01:19:46.936560Z",
     "start_time": "2025-09-26T01:19:46.691260Z"
    }
   },
   "source": "# Daily pattern visualization using SolarVisualizationSuite\nif len(csv_data) > 0:\n    print(\"📈 Creating standardized daily pattern visualizations...\")\n    \n    # Prepare hourly data for visualization\n    csv_data['Hour'] = csv_data.index.hour\n    hourly_data = csv_data.reset_index().rename(columns={\n        'Date/Time': 'date',\n        'Production (kWh)': 'production'\n    })\n    hourly_data['hour'] = hourly_data['date'].dt.hour\n    \n    # Create individual professional charts using the suite\n    fig, axes = plt.subplots(2, 2, figsize=(16, 12))\n    \n    # Use individual plotting methods from the suite for consistent styling\n    viz_suite._plot_hourly_patterns(axes[0,0], hourly_data)\n    viz_suite._plot_seasonal_patterns(axes[0,1], viz_data) \n    \n    # Monthly production distribution using suite styling\n    seasonal_data = viz_suite._prepare_seasonal_data(viz_data)\n    viz_suite._plot_monthly_averages(axes[1,0], seasonal_data)\n    viz_suite._plot_daylight_correlation(axes[1,1], seasonal_data)\n    \n    plt.suptitle('Daily Production Patterns Analysis', fontsize=16, fontweight='bold', y=0.98)\n    plt.tight_layout()\n    plt.show()\n    \n    print(\"✨ Daily pattern analysis complete with professional styling!\")",
   "outputs": [],
   "execution_count": null
  },
  {
   "cell_type": "markdown",
   "metadata": {},
   "source": "## 4. System Performance Trends"
  },
  {
   "cell_type": "code",
   "source": "# Performance trends visualization using SolarVisualizationSuite\nprint(\"📊 Creating professional performance trend visualizations...\")\n\n# Rolling averages\ndaily_data['7day_avg'] = daily_data['Production (kWh)'].rolling(7, center=True).mean()\ndaily_data['30day_avg'] = daily_data['Production (kWh)'].rolling(30, center=True).mean()\n\n# Create enhanced performance trend analysis using the suite\nfig, axes = plt.subplots(2, 2, figsize=(16, 12))\n\n# Use the suite's production trend method\nviz_suite._plot_production_trend(axes[0,0], viz_data)\n\n# Monthly peak production using suite styling  \nmonthly_peaks = daily_data.groupby([daily_data.index.year, daily_data.index.month])['Production (kWh)'].max()\npeak_dates = [pd.Timestamp(year=year, month=month, day=1) for (year, month) in monthly_peaks.index]\n\nfrom visualization.plot_config import format_solar_axes, SOLAR_COLORS\naxes[0,1].plot(peak_dates, monthly_peaks.values, marker='o', linewidth=2, markersize=6,\n               color=SOLAR_COLORS['production'])\nformat_solar_axes(axes[0,1], 'Month', 'Peak Daily Production (kWh)', \n                  'Monthly Peak Production (System Health)')\n\n# Add trend line\nif len(monthly_peaks) > 3:\n    from numpy.polynomial import Polynomial\n    x_numeric = [(d - peak_dates[0]).days for d in peak_dates]\n    p = Polynomial.fit(x_numeric, monthly_peaks.values, 1)\n    trend_line = p(x_numeric)\n    axes[0,1].plot(peak_dates, trend_line, '--', color=SOLAR_COLORS['import'], alpha=0.7, label='Trend')\n    axes[0,1].legend()\n\n# Production variance using suite styling\nseasonal_data = viz_suite._prepare_seasonal_data(viz_data)\nviz_suite._plot_production_variance(axes[1,0], seasonal_data)\n\n# Efficiency trends using suite method\nviz_suite._plot_efficiency_trends(axes[1,1], seasonal_data)\n\nplt.suptitle('System Performance & Efficiency Trends', fontsize=16, fontweight='bold', y=0.98)\nplt.tight_layout()\nplt.show()\n\nprint(\"✨ Performance trend analysis complete with professional styling!\")",
   "metadata": {
    "ExecuteTime": {
     "end_time": "2025-09-26T01:19:47.208862Z",
     "start_time": "2025-09-26T01:19:46.940960Z"
    }
   },
   "outputs": [],
   "execution_count": null
  },
  {
   "cell_type": "markdown",
   "metadata": {},
   "source": [
    "## 5. Key Insights Summary"
   ]
  },
  {
   "cell_type": "code",
   "metadata": {
    "ExecuteTime": {
     "end_time": "2025-09-26T01:19:47.221614Z",
     "start_time": "2025-09-26T01:19:47.215141Z"
    }
   },
   "source": "print(\"=== KEY SEASONAL & TEMPORAL INSIGHTS ===\")\n\n# Seasonal insights\nseasonal_avg = daily_data.groupby(daily_data.index.quarter)['Production (kWh)'].mean()\nbest_season = seasonal_avg.idxmax()\nworst_season = seasonal_avg.idxmin()\nseason_names_full = {1: 'Winter', 2: 'Spring', 3: 'Summer', 4: 'Fall'}\n\nprint(f\"\\n🌍 SEASONAL PATTERNS:\")\nprint(f\"  Best season: {season_names_full[best_season]} (Q{best_season}) - {seasonal_avg[best_season]:.1f} kWh/day\")\nprint(f\"  Worst season: {season_names_full[worst_season]} (Q{worst_season}) - {seasonal_avg[worst_season]:.1f} kWh/day\")\nprint(f\"  Seasonal variation: {seasonal_avg.max()/seasonal_avg.min():.1f}x difference\")\n\n# Compare with location expectations\nlocation_summary = location.get_location_summary()\nexpected_variation = location_summary['seasonal_variation']\nactual_variation = seasonal_avg.max()/seasonal_avg.min() - 1\n\nprint(f\"\\n📍 LOCATION-SPECIFIC INSIGHTS:\")\nprint(f\"  Location: {location.location_name}\")\nprint(f\"  Climate type: {location_summary['climate_type']}\")\nprint(f\"  Expected seasonal variation: {expected_variation:.1f}\")\nprint(f\"  Actual seasonal variation: {actual_variation:.1f}\")\nprint(f\"  Performance vs climate expectation: {'Higher' if actual_variation > expected_variation else 'Lower'} than typical for {location_summary['climate_type'].lower()} climates\")\n\n# Daily patterns\nif len(csv_data) > 0:\n    print(f\"\\n☀️ DAILY PATTERNS:\")\n    print(f\"  Peak hour: {hourly_avg.idxmax()}:00 ({hourly_avg.max():.3f} kWh average)\")\n    productive_hours = hourly_avg[hourly_avg > 0.01]\n    print(f\"  Productive hours: {productive_hours.index.min()}:00 to {productive_hours.index.max()}:00\")\n    print(f\"  Total productive hours: {len(productive_hours)} hours/day\")\n    \n    # Compare with theoretical daylight\n    avg_daylight = (location_summary['summer_daylight_hours'] + location_summary['winter_daylight_hours']) / 2\n    print(f\"  Theoretical avg daylight: {avg_daylight:.1f} hours\")\n    print(f\"  Solar utilization efficiency: {len(productive_hours)/avg_daylight*100:.0f}%\")\n\n# Performance trends\nif len(monthly_peaks) > 6:\n    recent_peaks = monthly_peaks.tail(6).mean()\n    early_peaks = monthly_peaks.head(6).mean()\n    trend_direction = \"improving\" if recent_peaks > early_peaks else \"declining\"\n    print(f\"\\n📈 PERFORMANCE TRENDS:\")\n    print(f\"  System performance: {trend_direction}\")\n    print(f\"  Recent peak average: {recent_peaks:.1f} kWh\")\n    print(f\"  Early peak average: {early_peaks:.1f} kWh\")\n\n# Production statistics\ntotal_production = daily_data['Production (kWh)'].sum()\ndays_analyzed = len(daily_data)\nprint(f\"\\n📊 OVERALL STATISTICS:\")\nprint(f\"  Total production analyzed: {total_production:,.0f} kWh\")\nprint(f\"  Days analyzed: {days_analyzed:,} days\")\nprint(f\"  Average daily production: {total_production/days_analyzed:.1f} kWh/day\")\nprint(f\"  Estimated annual production: {(total_production/days_analyzed)*365:.0f} kWh/year\")\n\nprint(\"\\n✅ Seasonal and temporal analysis complete!\")\nprint(\"\\nNext steps:\")\nprint(\"- Run 01c_baseline_ml_models.ipynb for machine learning forecasting\")\nprint(\"- Run 02_weather_integration.ipynb for weather-enhanced analysis\")",
   "outputs": [
    {
     "name": "stdout",
     "output_type": "stream",
     "text": [
      "=== KEY SEASONAL & TEMPORAL INSIGHTS ===\n",
      "\n",
      "🌍 SEASONAL PATTERNS:\n",
      "  Best season: Spring (Q2) - 43.6 kWh/day\n",
      "  Worst season: Fall (Q4) - 33.4 kWh/day\n",
      "  Seasonal variation: 1.3x difference\n",
      "\n",
      "📍 LOCATION-SPECIFIC INSIGHTS:\n",
      "  Location: Holly Springs, NC\n",
      "  Climate type: Temperate\n",
      "  Expected seasonal variation: 0.5\n",
      "  Actual seasonal variation: 0.3\n",
      "  Performance vs climate expectation: Lower than typical for temperate climates\n",
      "\n",
      "☀️ DAILY PATTERNS:\n",
      "  Peak hour: 11:00 (1.386 kWh average)\n",
      "  Productive hours: 6:00 to 19:00\n",
      "  Total productive hours: 14 hours/day\n",
      "  Theoretical avg daylight: 12.0 hours\n",
      "  Solar utilization efficiency: 117%\n",
      "\n",
      "📈 PERFORMANCE TRENDS:\n",
      "  System performance: improving\n",
      "  Recent peak average: 57.0 kWh\n",
      "  Early peak average: 49.2 kWh\n",
      "\n",
      "📊 OVERALL STATISTICS:\n",
      "  Total production analyzed: 27,398 kWh\n",
      "  Days analyzed: 732 days\n",
      "  Average daily production: 37.4 kWh/day\n",
      "  Estimated annual production: 13662 kWh/year\n",
      "\n",
      "✅ Seasonal and temporal analysis complete!\n",
      "\n",
      "Next steps:\n",
      "- Run 01c_baseline_ml_models.ipynb for machine learning forecasting\n",
      "- Run 02_weather_integration.ipynb for weather-enhanced analysis\n"
     ]
    }
   ],
   "execution_count": 8
  }
 ],
 "metadata": {
  "kernelspec": {
   "display_name": "Python 3",
   "language": "python",
   "name": "python3"
  },
  "language_info": {
   "codemirror_mode": {
    "name": "ipython",
    "version": 3
   },
   "file_extension": ".py",
   "mimetype": "text/x-python",
   "name": "python",
   "nbconvert_exporter": "python",
   "pygments_lexer": "ipython3",
   "version": "3.9.6"
  }
 },
 "nbformat": 4,
 "nbformat_minor": 4
}