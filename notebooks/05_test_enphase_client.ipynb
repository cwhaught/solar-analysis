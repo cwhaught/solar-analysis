{
 "cells": [
  {
   "cell_type": "code",
   "id": "initial_id",
   "metadata": {
    "collapsed": true,
    "ExecuteTime": {
     "end_time": "2025-09-19T02:58:21.154213Z",
     "start_time": "2025-09-19T02:58:21.148628Z"
    }
   },
   "source": [
    "# Cell 1: Initialize EnphaseClient\n",
    "import sys\n",
    "sys.path.append('../src')\n",
    "\n",
    "from enphase_client import EnphaseClient\n",
    "import pandas as pd\n",
    "from datetime import datetime, timedelta\n",
    "from pathlib import Path\n",
    "\n",
    "print(\"=== ENPHASE CLIENT TEST SUITE ===\\n\")\n",
    "\n",
    "# Load credentials\n",
    "env_file = Path(\"../.env\")\n",
    "credentials = {}\n",
    "with open(env_file, 'r') as f:\n",
    "    for line in f:\n",
    "        if '=' in line:\n",
    "            key, value = line.strip().split('=', 1)\n",
    "            credentials[key] = value\n",
    "\n",
    "# Initialize client\n",
    "client = EnphaseClient(\n",
    "    access_token=credentials['ENPHASE_ACCESS_TOKEN'],\n",
    "    api_key=credentials['ENPHASE_API_KEY'],\n",
    "    system_id=credentials['ENPHASE_SYSTEM_ID']\n",
    ")\n",
    "\n",
    "print(\"EnphaseClient initialized successfully\")"
   ],
   "outputs": [
    {
     "name": "stdout",
     "output_type": "stream",
     "text": [
      "=== ENPHASE CLIENT TEST SUITE ===\n",
      "\n",
      "EnphaseClient initialized successfully\n"
     ]
    }
   ],
   "execution_count": 2
  },
  {
   "metadata": {
    "ExecuteTime": {
     "end_time": "2025-09-19T02:58:25.551619Z",
     "start_time": "2025-09-19T02:58:24.696597Z"
    }
   },
   "cell_type": "code",
   "source": [
    "# Cell 2: Test basic API functionality\n",
    "print(\"=== API HEALTH AND STATUS ===\\n\")\n",
    "\n",
    "# API health check\n",
    "health = client.check_api_health()\n",
    "if health['api_accessible']:\n",
    "    print(f\"API Status: Accessible\")\n",
    "    print(f\"Current Power: {health['current_power']} W\")\n",
    "    print(f\"Energy Today: {health['energy_today']:.1f} kWh\")\n",
    "    print(f\"Lifetime Energy: {health['energy_lifetime']:.1f} MWh\")\n",
    "else:\n",
    "    print(f\"API Issue: {health.get('error')}\")\n",
    "\n",
    "# Current system status\n",
    "status = client.get_current_status()\n",
    "if status:\n",
    "    print(f\"\\nLast Report: {status.get('last_report_at')}\")\n",
    "    print(f\"System ID: {status.get('system_id', 'N/A')}\")"
   ],
   "id": "b27055950d0c9b6e",
   "outputs": [
    {
     "name": "stdout",
     "output_type": "stream",
     "text": [
      "=== API HEALTH AND STATUS ===\n",
      "\n",
      "API Status: Accessible\n",
      "Current Power: 0 W\n",
      "Energy Today: 53.1 kWh\n",
      "Lifetime Energy: 33.5 MWh\n",
      "\n",
      "Last Report: 1758250360\n",
      "System ID: 4136754\n"
     ]
    }
   ],
   "execution_count": 3
  },
  {
   "metadata": {
    "ExecuteTime": {
     "end_time": "2025-09-19T02:58:28.476634Z",
     "start_time": "2025-09-19T02:58:27.915154Z"
    }
   },
   "cell_type": "code",
   "source": [
    "# Cell 3: Test energy_lifetime endpoint (main breakthrough)\n",
    "print(\"=== HISTORICAL DATA ACCESS ===\\n\")\n",
    "\n",
    "# Test recent 30 days\n",
    "end_date = datetime.now()\n",
    "start_date = end_date - timedelta(days=30)\n",
    "\n",
    "recent_data = client.get_energy_lifetime(start_date, end_date)\n",
    "\n",
    "if not recent_data.empty:\n",
    "    print(f\"Recent 30 days: {len(recent_data)} days retrieved\")\n",
    "    print(f\"Total energy: {recent_data['daily_energy_kwh'].sum():.1f} kWh\")\n",
    "    print(f\"Average daily: {recent_data['daily_energy_kwh'].mean():.1f} kWh\")\n",
    "\n",
    "    print(f\"\\nLast 7 days:\")\n",
    "    for date, row in recent_data.tail(7).iterrows():\n",
    "        print(f\"  {date.strftime('%Y-%m-%d')}: {row['daily_energy_kwh']:.1f} kWh\")\n",
    "\n",
    "# Test full historical access\n",
    "print(f\"\\n--- Full Historical Dataset ---\")\n",
    "full_data = client.get_historical_data()\n",
    "\n",
    "if not full_data.empty:\n",
    "    print(f\"Complete history: {len(full_data)} days\")\n",
    "    print(f\"Date range: {full_data.index.min().strftime('%Y-%m-%d')} to {full_data.index.max().strftime('%Y-%m-%d')}\")\n",
    "    print(f\"Total lifetime: {full_data['daily_energy_kwh'].sum():.1f} kWh\")\n",
    "    print(f\"Peak day: {full_data['daily_energy_kwh'].max():.1f} kWh\")"
   ],
   "id": "952bec62274de74b",
   "outputs": [
    {
     "name": "stdout",
     "output_type": "stream",
     "text": [
      "=== HISTORICAL DATA ACCESS ===\n",
      "\n",
      "Recent 30 days: 30 days retrieved\n",
      "Total energy: 1183.1 kWh\n",
      "Average daily: 39.4 kWh\n",
      "\n",
      "Last 7 days:\n",
      "  2025-09-11: 21.9 kWh\n",
      "  2025-09-12: 50.9 kWh\n",
      "  2025-09-13: 50.7 kWh\n",
      "  2025-09-14: 26.6 kWh\n",
      "  2025-09-15: 23.6 kWh\n",
      "  2025-09-16: 16.7 kWh\n",
      "  2025-09-17: 33.8 kWh\n",
      "\n",
      "--- Full Historical Dataset ---\n",
      "Complete history: 889 days\n",
      "Date range: 2023-04-13 to 2025-09-17\n",
      "Total lifetime: 33499.2 kWh\n",
      "Peak day: 61.7 kWh\n"
     ]
    }
   ],
   "execution_count": 4
  },
  {
   "metadata": {
    "ExecuteTime": {
     "end_time": "2025-09-19T02:58:32.129417Z",
     "start_time": "2025-09-19T02:58:32.119781Z"
    }
   },
   "cell_type": "code",
   "source": [
    "# Cell 4: Data analysis and seasonal patterns\n",
    "print(\"=== DATA ANALYSIS ===\\n\")\n",
    "\n",
    "if 'full_data' in locals() and not full_data.empty:\n",
    "    # Monthly analysis\n",
    "    full_data['month'] = full_data.index.month\n",
    "    monthly_stats = full_data.groupby('month')['daily_energy_kwh'].agg(['mean', 'max', 'count'])\n",
    "\n",
    "    months = ['Jan', 'Feb', 'Mar', 'Apr', 'May', 'Jun', 'Jul', 'Aug', 'Sep', 'Oct', 'Nov', 'Dec']\n",
    "\n",
    "    print(\"Monthly Production Statistics:\")\n",
    "    for month_num, stats in monthly_stats.iterrows():\n",
    "        month_name = months[month_num-1]\n",
    "        print(f\"  {month_name}: Avg={stats['mean']:.1f} kWh/day, Peak={stats['max']:.1f} kWh, Days={int(stats['count'])}\")\n",
    "\n",
    "    # Peak and low analysis\n",
    "    peak_month = monthly_stats['mean'].idxmax()\n",
    "    low_month = monthly_stats['mean'].idxmin()\n",
    "\n",
    "    print(f\"\\nSeasonal Summary:\")\n",
    "    print(f\"  Peak month: {months[peak_month-1]} ({monthly_stats.loc[peak_month, 'mean']:.1f} kWh/day)\")\n",
    "    print(f\"  Low month: {months[low_month-1]} ({monthly_stats.loc[low_month, 'mean']:.1f} kWh/day)\")\n",
    "\n",
    "    # Recent performance\n",
    "    last_30_days = full_data.tail(30)\n",
    "    recent_avg = last_30_days['daily_energy_kwh'].mean()\n",
    "    print(f\"  Recent 30-day average: {recent_avg:.1f} kWh/day\")"
   ],
   "id": "969a05fcc1e011d0",
   "outputs": [
    {
     "name": "stdout",
     "output_type": "stream",
     "text": [
      "=== DATA ANALYSIS ===\n",
      "\n",
      "Monthly Production Statistics:\n",
      "  Jan: Avg=30.4 kWh/day, Peak=45.0 kWh, Days=62\n",
      "  Feb: Avg=32.8 kWh/day, Peak=50.9 kWh, Days=57\n",
      "  Mar: Avg=38.8 kWh/day, Peak=58.3 kWh, Days=62\n",
      "  Apr: Avg=33.6 kWh/day, Peak=59.9 kWh, Days=78\n",
      "  May: Avg=40.4 kWh/day, Peak=61.7 kWh, Days=93\n",
      "  Jun: Avg=45.9 kWh/day, Peak=59.2 kWh, Days=90\n",
      "  Jul: Avg=42.9 kWh/day, Peak=58.2 kWh, Days=93\n",
      "  Aug: Avg=40.8 kWh/day, Peak=57.5 kWh, Days=93\n",
      "  Sep: Avg=37.8 kWh/day, Peak=57.9 kWh, Days=77\n",
      "  Oct: Avg=40.8 kWh/day, Peak=53.4 kWh, Days=62\n",
      "  Nov: Avg=31.7 kWh/day, Peak=48.9 kWh, Days=60\n",
      "  Dec: Avg=27.6 kWh/day, Peak=41.2 kWh, Days=62\n",
      "\n",
      "Seasonal Summary:\n",
      "  Peak month: Jun (45.9 kWh/day)\n",
      "  Low month: Dec (27.6 kWh/day)\n",
      "  Recent 30-day average: 39.4 kWh/day\n"
     ]
    }
   ],
   "execution_count": 5
  },
  {
   "metadata": {
    "ExecuteTime": {
     "end_time": "2025-09-19T02:58:35.474936Z",
     "start_time": "2025-09-19T02:58:35.249158Z"
    }
   },
   "cell_type": "code",
   "source": [
    "# Cell 5: Data export and integration capabilities\n",
    "print(\"=== DATA EXPORT AND INTEGRATION ===\\n\")\n",
    "\n",
    "# Export capability test\n",
    "export_filename = \"../data/processed/api_historical_data.csv\"\n",
    "export_success = client.export_to_csv(\n",
    "    filename=export_filename,\n",
    "    start_date=datetime(2024, 1, 1),  # Last year's data\n",
    "    end_date=datetime.now()\n",
    ")\n",
    "\n",
    "if export_success:\n",
    "    print(f\"Data exported successfully to {export_filename}\")\n",
    "\n",
    "    # Verify export\n",
    "    exported_data = pd.read_csv(export_filename, index_col=0, parse_dates=True)\n",
    "    print(f\"Exported {len(exported_data)} days of data\")\n",
    "\n",
    "# Integration with ML models\n",
    "print(f\"\\n--- ML Model Integration ---\")\n",
    "print(\"Data format compatible with existing ML pipeline:\")\n",
    "print(\"- Daily production totals (kWh)\")\n",
    "print(\"- DateTime index for time series analysis\")\n",
    "print(\"- Ready for weather data merging\")\n",
    "print(\"- Can replace CSV data source entirely\")\n",
    "\n",
    "print(f\"\\nNext steps:\")\n",
    "print(\"- Integrate with weather-enhanced ML models\")\n",
    "print(\"- Set up automated daily data collection\")\n",
    "print(\"- Build real-time monitoring dashboard\")"
   ],
   "id": "aca661ec3b7b3e35",
   "outputs": [
    {
     "name": "stdout",
     "output_type": "stream",
     "text": [
      "=== DATA EXPORT AND INTEGRATION ===\n",
      "\n",
      "Exported 626 days of data to ../data/processed/api_historical_data.csv\n",
      "Data exported successfully to ../data/processed/api_historical_data.csv\n",
      "Exported 626 days of data\n",
      "\n",
      "--- ML Model Integration ---\n",
      "Data format compatible with existing ML pipeline:\n",
      "- Daily production totals (kWh)\n",
      "- DateTime index for time series analysis\n",
      "- Ready for weather data merging\n",
      "- Can replace CSV data source entirely\n",
      "\n",
      "Next steps:\n",
      "- Integrate with weather-enhanced ML models\n",
      "- Set up automated daily data collection\n",
      "- Build real-time monitoring dashboard\n"
     ]
    }
   ],
   "execution_count": 6
  },
  {
   "metadata": {},
   "cell_type": "code",
   "outputs": [],
   "execution_count": null,
   "source": "",
   "id": "f9a5a942a115c127"
  }
 ],
 "metadata": {
  "kernelspec": {
   "display_name": "Python 3",
   "language": "python",
   "name": "python3"
  },
  "language_info": {
   "codemirror_mode": {
    "name": "ipython",
    "version": 2
   },
   "file_extension": ".py",
   "mimetype": "text/x-python",
   "name": "python",
   "nbconvert_exporter": "python",
   "pygments_lexer": "ipython2",
   "version": "2.7.6"
  }
 },
 "nbformat": 4,
 "nbformat_minor": 5
}
