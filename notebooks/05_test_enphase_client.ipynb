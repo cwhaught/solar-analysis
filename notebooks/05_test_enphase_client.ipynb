{
 "cells": [
  {
   "cell_type": "code",
   "id": "initial_id",
   "metadata": {
    "collapsed": true,
    "ExecuteTime": {
     "end_time": "2025-09-19T03:22:42.839398Z",
     "start_time": "2025-09-19T03:22:42.773078Z"
    }
   },
   "source": [
    "# Cell 1: Initialize Enhanced EnphaseClient\n",
    "import sys\n",
    "sys.path.append('../src')\n",
    "\n",
    "from enphase_client import EnphaseClient\n",
    "import pandas as pd\n",
    "from datetime import datetime, timedelta\n",
    "from pathlib import Path\n",
    "\n",
    "print(\"=== ENPHASE CLIENT COMPREHENSIVE TEST SUITE ===\\n\")\n",
    "\n",
    "# Load credentials\n",
    "env_file = Path(\"../.env\")\n",
    "credentials = {}\n",
    "with open(env_file, 'r') as f:\n",
    "    for line in f:\n",
    "        if '=' in line:\n",
    "            key, value = line.strip().split('=', 1)\n",
    "            credentials[key] = value\n",
    "\n",
    "# Initialize client\n",
    "client = EnphaseClient(\n",
    "    access_token=credentials['ENPHASE_ACCESS_TOKEN'],\n",
    "    api_key=credentials['ENPHASE_API_KEY'],\n",
    "    system_id=credentials['ENPHASE_SYSTEM_ID']\n",
    ")\n",
    "\n",
    "print(\"EnphaseClient initialized with full API capabilities\")"
   ],
   "outputs": [
    {
     "name": "stdout",
     "output_type": "stream",
     "text": [
      "=== ENPHASE CLIENT COMPREHENSIVE TEST SUITE ===\n",
      "\n",
      "EnphaseClient initialized with full API capabilities\n"
     ]
    },
    {
     "name": "stderr",
     "output_type": "stream",
     "text": [
      "/Users/christopherhaught/projects/power-usage-and-consumption/.venv/lib/python3.9/site-packages/urllib3/__init__.py:35: NotOpenSSLWarning: urllib3 v2 only supports OpenSSL 1.1.1+, currently the 'ssl' module is compiled with 'LibreSSL 2.8.3'. See: https://github.com/urllib3/urllib3/issues/3020\n",
      "  warnings.warn(\n"
     ]
    }
   ],
   "execution_count": 1
  },
  {
   "metadata": {
    "ExecuteTime": {
     "end_time": "2025-09-19T03:22:56.669403Z",
     "start_time": "2025-09-19T03:22:55.860786Z"
    }
   },
   "cell_type": "code",
   "source": [
    "# Cell 2: Basic API functionality and health checks\n",
    "print(\"=== API HEALTH AND SYSTEM STATUS ===\\n\")\n",
    "\n",
    "# API health check\n",
    "health = client.check_api_health()\n",
    "if health['api_accessible']:\n",
    "    print(f\"API Status: Accessible\")\n",
    "    print(f\"Current Power: {health['current_power']} W\")\n",
    "    print(f\"Energy Today: {health['energy_today']:.1f} kWh\")\n",
    "    print(f\"Lifetime Energy: {health['energy_lifetime']:.1f} MWh\")\n",
    "    print(f\"Last Report: {health['last_report']}\")\n",
    "else:\n",
    "    print(f\"API Issue: {health.get('error')}\")\n",
    "\n",
    "# Detailed system status\n",
    "print(f\"\\n--- Detailed System Information ---\")\n",
    "status = client.get_current_status()\n",
    "if status:\n",
    "    print(f\"System ID: {status.get('system_id')}\")\n",
    "    print(f\"Status: {status.get('status', 'Unknown')}\")\n",
    "    print(f\"Size: {status.get('size_w', 'Unknown')} W\")\n",
    "    print(f\"Module Count: {status.get('modules', 'Unknown')}\")"
   ],
   "id": "b27055950d0c9b6e",
   "outputs": [
    {
     "name": "stdout",
     "output_type": "stream",
     "text": [
      "=== API HEALTH AND SYSTEM STATUS ===\n",
      "\n",
      "API Status: Accessible\n",
      "Current Power: 0 W\n",
      "Energy Today: 53.1 kWh\n",
      "Lifetime Energy: 33.5 MWh\n",
      "Last Report: 1758252162\n",
      "\n",
      "--- Detailed System Information ---\n",
      "System ID: 4136754\n",
      "Status: normal\n",
      "Size: 9425 W\n",
      "Module Count: 26\n"
     ]
    }
   ],
   "execution_count": 2
  },
  {
   "metadata": {
    "ExecuteTime": {
     "end_time": "2025-09-19T03:23:10.347907Z",
     "start_time": "2025-09-19T03:23:09.413829Z"
    }
   },
   "cell_type": "code",
   "source": [
    "# Cell 3: Comprehensive historical data analysis\n",
    "print(\"=== HISTORICAL DATA ACCESS ===\\n\")\n",
    "\n",
    "# Test full system lifetime data\n",
    "print(\"1. Complete System History:\")\n",
    "full_data = client.get_historical_data()\n",
    "\n",
    "if not full_data.empty:\n",
    "    print(f\"   Complete dataset: {len(full_data)} days\")\n",
    "    print(f\"   Date range: {full_data.index.min().strftime('%Y-%m-%d')} to {full_data.index.max().strftime('%Y-%m-%d')}\")\n",
    "    print(f\"   Total lifetime: {full_data['daily_energy_kwh'].sum():.1f} kWh\")\n",
    "    print(f\"   Average daily: {full_data['daily_energy_kwh'].mean():.1f} kWh\")\n",
    "    print(f\"   Peak day: {full_data['daily_energy_kwh'].max():.1f} kWh\")\n",
    "\n",
    "# Test recent data window\n",
    "print(f\"\\n2. Recent 30-Day Analysis:\")\n",
    "recent_data = client.get_energy_lifetime(\n",
    "    start_date=datetime.now() - timedelta(days=30),\n",
    "    end_date=datetime.now()\n",
    ")\n",
    "\n",
    "if not recent_data.empty:\n",
    "    print(f\"   Recent period: {len(recent_data)} days\")\n",
    "    print(f\"   Total energy: {recent_data['daily_energy_kwh'].sum():.1f} kWh\")\n",
    "    print(f\"   Average daily: {recent_data['daily_energy_kwh'].mean():.1f} kWh\")\n",
    "\n",
    "    print(f\"\\n   Last 7 days production:\")\n",
    "    for date, row in recent_data.tail(7).iterrows():\n",
    "        print(f\"     {date.strftime('%Y-%m-%d')}: {row['daily_energy_kwh']:.1f} kWh\")"
   ],
   "id": "952bec62274de74b",
   "outputs": [
    {
     "name": "stdout",
     "output_type": "stream",
     "text": [
      "=== HISTORICAL DATA ACCESS ===\n",
      "\n",
      "1. Complete System History:\n",
      "   Complete dataset: 889 days\n",
      "   Date range: 2023-04-13 to 2025-09-17\n",
      "   Total lifetime: 33499.2 kWh\n",
      "   Average daily: 37.7 kWh\n",
      "   Peak day: 61.7 kWh\n",
      "\n",
      "2. Recent 30-Day Analysis:\n",
      "   Recent period: 30 days\n",
      "   Total energy: 1183.1 kWh\n",
      "   Average daily: 39.4 kWh\n",
      "\n",
      "   Last 7 days production:\n",
      "     2025-09-11: 21.9 kWh\n",
      "     2025-09-12: 50.9 kWh\n",
      "     2025-09-13: 50.7 kWh\n",
      "     2025-09-14: 26.6 kWh\n",
      "     2025-09-15: 23.6 kWh\n",
      "     2025-09-16: 16.7 kWh\n",
      "     2025-09-17: 33.8 kWh\n"
     ]
    }
   ],
   "execution_count": 3
  },
  {
   "metadata": {
    "ExecuteTime": {
     "end_time": "2025-09-19T03:23:21.676691Z",
     "start_time": "2025-09-19T03:23:21.665338Z"
    }
   },
   "cell_type": "code",
   "source": [
    "# Cell 4: Seasonal analysis and performance patterns\n",
    "print(\"=== SEASONAL ANALYSIS ===\\n\")\n",
    "\n",
    "if 'full_data' in locals() and not full_data.empty:\n",
    "    # Monthly performance analysis\n",
    "    full_data['month'] = full_data.index.month\n",
    "    monthly_stats = full_data.groupby('month')['daily_energy_kwh'].agg(['mean', 'max', 'min', 'count'])\n",
    "\n",
    "    months = ['Jan', 'Feb', 'Mar', 'Apr', 'May', 'Jun', 'Jul', 'Aug', 'Sep', 'Oct', 'Nov', 'Dec']\n",
    "\n",
    "    print(\"Monthly Production Statistics:\")\n",
    "    for month_num, stats in monthly_stats.iterrows():\n",
    "        month_name = months[month_num-1]\n",
    "        print(f\"  {month_name}: Avg={stats['mean']:.1f} kWh/day, Peak={stats['max']:.1f} kWh, Days={int(stats['count'])}\")\n",
    "\n",
    "    # Seasonal insights\n",
    "    peak_month = monthly_stats['mean'].idxmax()\n",
    "    low_month = monthly_stats['mean'].idxmin()\n",
    "\n",
    "    print(f\"\\nSeasonal Performance:\")\n",
    "    print(f\"  Peak production month: {months[peak_month-1]} ({monthly_stats.loc[peak_month, 'mean']:.1f} kWh/day)\")\n",
    "    print(f\"  Lowest production month: {months[low_month-1]} ({monthly_stats.loc[low_month, 'mean']:.1f} kWh/day)\")\n",
    "    print(f\"  Seasonal variation: {(monthly_stats['mean'].max() / monthly_stats['mean'].min() - 1) * 100:.0f}% difference\")\n",
    "\n",
    "    # Year-over-year comparison if multiple years available\n",
    "    if len(full_data) > 365:\n",
    "        full_data['year'] = full_data.index.year\n",
    "        yearly_totals = full_data.groupby('year')['daily_energy_kwh'].sum()\n",
    "\n",
    "        print(f\"\\nYear-over-Year Production:\")\n",
    "        for year, total in yearly_totals.items():\n",
    "            print(f\"  {year}: {total:.0f} kWh\")"
   ],
   "id": "969a05fcc1e011d0",
   "outputs": [
    {
     "name": "stdout",
     "output_type": "stream",
     "text": [
      "=== SEASONAL ANALYSIS ===\n",
      "\n",
      "Monthly Production Statistics:\n",
      "  Jan: Avg=30.4 kWh/day, Peak=45.0 kWh, Days=62\n",
      "  Feb: Avg=32.8 kWh/day, Peak=50.9 kWh, Days=57\n",
      "  Mar: Avg=38.8 kWh/day, Peak=58.3 kWh, Days=62\n",
      "  Apr: Avg=33.6 kWh/day, Peak=59.9 kWh, Days=78\n",
      "  May: Avg=40.4 kWh/day, Peak=61.7 kWh, Days=93\n",
      "  Jun: Avg=45.9 kWh/day, Peak=59.2 kWh, Days=90\n",
      "  Jul: Avg=42.9 kWh/day, Peak=58.2 kWh, Days=93\n",
      "  Aug: Avg=40.8 kWh/day, Peak=57.5 kWh, Days=93\n",
      "  Sep: Avg=37.8 kWh/day, Peak=57.9 kWh, Days=77\n",
      "  Oct: Avg=40.8 kWh/day, Peak=53.4 kWh, Days=62\n",
      "  Nov: Avg=31.7 kWh/day, Peak=48.9 kWh, Days=60\n",
      "  Dec: Avg=27.6 kWh/day, Peak=41.2 kWh, Days=62\n",
      "\n",
      "Seasonal Performance:\n",
      "  Peak production month: Jun (45.9 kWh/day)\n",
      "  Lowest production month: Dec (27.6 kWh/day)\n",
      "  Seasonal variation: 66% difference\n",
      "\n",
      "Year-over-Year Production:\n",
      "  2023: 9704 kWh\n",
      "  2024: 13675 kWh\n",
      "  2025: 10120 kWh\n"
     ]
    }
   ],
   "execution_count": 4
  },
  {
   "metadata": {
    "ExecuteTime": {
     "end_time": "2025-09-19T03:23:37.207034Z",
     "start_time": "2025-09-19T03:23:36.347092Z"
    }
   },
   "cell_type": "code",
   "source": [
    "# Cell 5: Revenue-grade meter detailed analysis\n",
    "print(\"=== REVENUE-GRADE METER ANALYSIS ===\\n\")\n",
    "\n",
    "# Test RGM stats functionality\n",
    "print(\"1. Testing Multi-Channel Meter Data:\")\n",
    "rgm_data = client.get_recent_detailed_data(days_back=2)\n",
    "\n",
    "if not rgm_data.empty:\n",
    "    print(f\"   Retrieved {len(rgm_data)} 15-minute intervals\")\n",
    "    print(f\"   Date range: {rgm_data.index.min()} to {rgm_data.index.max()}\")\n",
    "\n",
    "    # Channel analysis\n",
    "    channels = rgm_data['channel'].unique()\n",
    "    print(f\"   Meter channels detected: {sorted(channels)}\")\n",
    "\n",
    "    # Per-channel totals\n",
    "    channel_totals = rgm_data.groupby('channel')['energy_delivered_kwh'].sum()\n",
    "    print(f\"\\n   Energy by channel (last 2 days):\")\n",
    "    for channel in sorted(channels):\n",
    "        total = channel_totals.get(channel, 0)\n",
    "        print(f\"     Channel {channel}: {total:.1f} kWh\")\n",
    "\n",
    "    # Hardware information\n",
    "    if not rgm_data.empty:\n",
    "        meter_info = rgm_data[['meter_serial', 'envoy_serial']].iloc[0]\n",
    "        print(f\"\\n   Hardware Information:\")\n",
    "        print(f\"     Meter Serial: {meter_info['meter_serial']}\")\n",
    "        print(f\"     Envoy Serial: {meter_info['envoy_serial']}\")\n",
    "\n",
    "# Test power monitoring capabilities\n",
    "print(f\"\\n2. Real-Time Power Monitoring:\")\n",
    "if not rgm_data.empty:\n",
    "    # Filter for recent production hours\n",
    "    recent_production = rgm_data[rgm_data['current_power_w'] > 0]\n",
    "\n",
    "    if not recent_production.empty:\n",
    "        peak_power = recent_production['current_power_w'].max()\n",
    "        avg_power = recent_production['current_power_w'].mean()\n",
    "\n",
    "        print(f\"   Peak power reading: {peak_power:.0f} W\")\n",
    "        print(f\"   Average power (when producing): {avg_power:.0f} W\")\n",
    "\n",
    "        # Show power progression during peak hours\n",
    "        peak_day_data = recent_production.groupby(recent_production.index.date).first()\n",
    "        if not peak_day_data.empty:\n",
    "            print(f\"   Latest production day sample:\")\n",
    "            sample_data = recent_production.tail(6)  # Last 6 intervals\n",
    "            for dt, row in sample_data.iterrows():\n",
    "                print(f\"     {dt.strftime('%H:%M')} Ch{row['channel']}: {row['current_power_w']:.0f}W\")"
   ],
   "id": "aca661ec3b7b3e35",
   "outputs": [
    {
     "name": "stdout",
     "output_type": "stream",
     "text": [
      "=== REVENUE-GRADE METER ANALYSIS ===\n",
      "\n",
      "1. Testing Multi-Channel Meter Data:\n",
      "   Retrieved 576 15-minute intervals\n",
      "   Date range: 2025-09-17 03:30:00 to 2025-09-19 03:15:00\n",
      "   Meter channels detected: [np.int64(1), np.int64(2), np.int64(3)]\n",
      "\n",
      "   Energy by channel (last 2 days):\n",
      "     Channel 1: 43.4 kWh\n",
      "     Channel 2: 43.5 kWh\n",
      "     Channel 3: 0.0 kWh\n",
      "\n",
      "   Hardware Information:\n",
      "     Meter Serial: 202251123433EIM1\n",
      "     Envoy Serial: 202251123433\n",
      "\n",
      "2. Real-Time Power Monitoring:\n",
      "   Peak power reading: 3833 W\n",
      "   Average power (when producing): 1838 W\n",
      "   Latest production day sample:\n",
      "     22:30 Ch2: 125W\n",
      "     22:30 Ch1: 126W\n",
      "     22:45 Ch2: 90W\n",
      "     22:45 Ch1: 91W\n",
      "     23:00 Ch2: 34W\n",
      "     23:00 Ch1: 35W\n"
     ]
    }
   ],
   "execution_count": 5
  }
 ],
 "metadata": {
  "kernelspec": {
   "display_name": "Python 3",
   "language": "python",
   "name": "python3"
  },
  "language_info": {
   "codemirror_mode": {
    "name": "ipython",
    "version": 2
   },
   "file_extension": ".py",
   "mimetype": "text/x-python",
   "name": "python",
   "nbconvert_exporter": "python",
   "pygments_lexer": "ipython2",
   "version": "2.7.6"
  }
 },
 "nbformat": 4,
 "nbformat_minor": 5
}
