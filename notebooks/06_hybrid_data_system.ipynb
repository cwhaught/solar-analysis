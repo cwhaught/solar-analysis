{
 "cells": [
  {
   "cell_type": "code",
   "id": "initial_id",
   "metadata": {
    "collapsed": true,
    "ExecuteTime": {
     "end_time": "2025-09-19T04:34:06.774884Z",
     "start_time": "2025-09-19T04:34:06.712611Z"
    }
   },
   "source": [
    "# Cell 1: Initialize Hybrid Data System\n",
    "import sys\n",
    "sys.path.append('../src')\n",
    "\n",
    "from data_manager import SolarDataManager\n",
    "from enphase_client import EnphaseClient\n",
    "from pathlib import Path\n",
    "\n",
    "print(\"=== HYBRID SOLAR DATA SYSTEM ===\\n\")\n",
    "\n",
    "# Load credentials and initialize client\n",
    "env_file = Path(\"../.env\")\n",
    "credentials = {}\n",
    "with open(env_file, 'r') as f:\n",
    "    for line in f:\n",
    "        if '=' in line and not line.startswith('#'):\n",
    "            key, value = line.strip().split('=', 1)\n",
    "            credentials[key] = value\n",
    "\n",
    "client = EnphaseClient(\n",
    "    access_token=credentials['ENPHASE_ACCESS_TOKEN'],\n",
    "    api_key=credentials['ENPHASE_API_KEY'],\n",
    "    system_id=credentials['ENPHASE_SYSTEM_ID']\n",
    ")\n",
    "\n",
    "# Initialize data manager\n",
    "data_manager = SolarDataManager(\n",
    "    csv_path=\"../data/raw/4136754_custom_report.csv\",\n",
    "    enphase_client=client,\n",
    "    cache_dir=\"../data/processed\"\n",
    ")\n",
    "\n",
    "print(\"SolarDataManager initialized with hybrid CSV/API capabilities\")"
   ],
   "outputs": [
    {
     "name": "stdout",
     "output_type": "stream",
     "text": [
      "=== HYBRID SOLAR DATA SYSTEM ===\n",
      "\n",
      "SolarDataManager initialized with hybrid CSV/API capabilities\n"
     ]
    },
    {
     "name": "stderr",
     "output_type": "stream",
     "text": [
      "/Users/christopherhaught/projects/power-usage-and-consumption/.venv/lib/python3.9/site-packages/urllib3/__init__.py:35: NotOpenSSLWarning: urllib3 v2 only supports OpenSSL 1.1.1+, currently the 'ssl' module is compiled with 'LibreSSL 2.8.3'. See: https://github.com/urllib3/urllib3/issues/3020\n",
      "  warnings.warn(\n"
     ]
    }
   ],
   "execution_count": 1
  },
  {
   "metadata": {
    "ExecuteTime": {
     "end_time": "2025-09-19T04:34:11.739159Z",
     "start_time": "2025-09-19T04:34:11.329080Z"
    }
   },
   "cell_type": "code",
   "source": [
    "# Cell 2: Data Source Analysis\n",
    "print(\"=== DATA SOURCE ANALYSIS ===\\n\")\n",
    "\n",
    "# Get summary of available data\n",
    "summary = data_manager.get_data_summary()\n",
    "\n",
    "print(\"Data Source Summary:\")\n",
    "for source, info in summary.items():\n",
    "    print(f\"\\n{source.upper()} Data:\")\n",
    "    if info['available']:\n",
    "        print(f\"  Records: {info['records']:,}\")\n",
    "        print(f\"  Date range: {info['date_range'][0]} to {info['date_range'][1]}\")\n",
    "        print(f\"  Granularity: {info['granularity']}\")\n",
    "        print(f\"  Status: Available\")\n",
    "    else:\n",
    "        print(f\"  Status: Not available\")\n",
    "\n",
    "# Load individual sources for comparison\n",
    "print(f\"\\n=== DETAILED COMPARISON ===\")\n",
    "csv_data = data_manager.load_csv_data()\n",
    "api_data = data_manager.load_api_data(days_back=60)\n",
    "\n",
    "if not csv_data.empty:\n",
    "    csv_daily = csv_data.resample('D').sum()\n",
    "    print(f\"CSV: {len(csv_data):,} 15-min intervals → {len(csv_daily):,} daily records\")\n",
    "\n",
    "if not api_data.empty:\n",
    "    print(f\"API: {len(api_data):,} daily records\")\n",
    "\n",
    "    # Check overlap\n",
    "    if not csv_data.empty:\n",
    "        csv_dates = set(csv_daily.index.date)\n",
    "        api_dates = set(api_data.index.date)\n",
    "        overlap = len(csv_dates.intersection(api_dates))\n",
    "        csv_only = len(csv_dates - api_dates)\n",
    "        api_only = len(api_dates - csv_dates)\n",
    "\n",
    "        print(f\"\\nData overlap analysis:\")\n",
    "        print(f\"  Dates in both sources: {overlap}\")\n",
    "        print(f\"  CSV-only dates: {csv_only}\")\n",
    "        print(f\"  API-only dates: {api_only}\")"
   ],
   "id": "24ac95d24d713751",
   "outputs": [
    {
     "name": "stderr",
     "output_type": "stream",
     "text": [
      "INFO:data_manager:Loading CSV data from ../data/raw/4136754_custom_report.csv\n",
      "INFO:data_manager:Loaded 70272 CSV records from 2023-09-16 00:00:00 to 2025-09-16 23:45:00\n",
      "INFO:data_manager:Loading API data for last 30 days\n"
     ]
    },
    {
     "name": "stdout",
     "output_type": "stream",
     "text": [
      "=== DATA SOURCE ANALYSIS ===\n",
      "\n"
     ]
    },
    {
     "name": "stderr",
     "output_type": "stream",
     "text": [
      "INFO:data_manager:Loaded 30 API records from 2025-08-20 00:00:00 to 2025-09-18 00:00:00\n"
     ]
    },
    {
     "name": "stdout",
     "output_type": "stream",
     "text": [
      "Data Source Summary:\n",
      "\n",
      "CSV Data:\n",
      "  Records: 70,272\n",
      "  Date range: 2023-09-16 to 2025-09-16\n",
      "  Granularity: 15min\n",
      "  Status: Available\n",
      "\n",
      "API Data:\n",
      "  Records: 30\n",
      "  Date range: 2025-08-20 to 2025-09-18\n",
      "  Granularity: daily\n",
      "  Status: Available\n",
      "\n",
      "=== DETAILED COMPARISON ===\n",
      "CSV: 70,272 15-min intervals → 732 daily records\n",
      "API: 30 daily records\n",
      "\n",
      "Data overlap analysis:\n",
      "  Dates in both sources: 28\n",
      "  CSV-only dates: 704\n",
      "  API-only dates: 2\n"
     ]
    }
   ],
   "execution_count": 2
  },
  {
   "metadata": {
    "ExecuteTime": {
     "end_time": "2025-09-19T04:34:23.151420Z",
     "start_time": "2025-09-19T04:34:23.122977Z"
    }
   },
   "cell_type": "code",
   "source": [
    "# Cell 3: Test Hybrid Data Retrieval\n",
    "print(\"=== HYBRID DATA RETRIEVAL ===\\n\")\n",
    "\n",
    "from datetime import datetime, timedelta\n",
    "\n",
    "# Test different source priorities\n",
    "strategies = ['csv_first', 'api_first', 'csv_only']\n",
    "\n",
    "for strategy in strategies:\n",
    "    print(f\"{strategy.upper()} Strategy:\")\n",
    "\n",
    "    # Get last 30 days\n",
    "    end_date = datetime.now()\n",
    "    start_date = end_date - timedelta(days=30)\n",
    "\n",
    "    data = data_manager.get_daily_production(\n",
    "        start_date=start_date,\n",
    "        end_date=end_date,\n",
    "        source_priority=strategy\n",
    "    )\n",
    "\n",
    "    if not data.empty:\n",
    "        total_energy = data['Production (kWh)'].sum()\n",
    "        avg_daily = data['Production (kWh)'].mean()\n",
    "\n",
    "        print(f\"  Records: {len(data)}\")\n",
    "        print(f\"  Total energy: {total_energy:.1f} kWh\")\n",
    "        print(f\"  Average daily: {avg_daily:.1f} kWh\")\n",
    "        print(f\"  Date range: {data.index.min().strftime('%Y-%m-%d')} to {data.index.max().strftime('%Y-%m-%d')}\")\n",
    "    else:\n",
    "        print(f\"  No data available\")\n",
    "\n",
    "    print()\n",
    "\n",
    "# Show recommended strategy\n",
    "print(\"RECOMMENDED: csv_first strategy provides:\")\n",
    "print(\"- Complete historical context from CSV\")\n",
    "print(\"- Latest updates from API\")\n",
    "print(\"- Best coverage for ML model training\")"
   ],
   "id": "ca62e9d1636783af",
   "outputs": [
    {
     "name": "stdout",
     "output_type": "stream",
     "text": [
      "=== HYBRID DATA RETRIEVAL ===\n",
      "\n",
      "CSV_FIRST Strategy:\n",
      "  Records: 29\n",
      "  Total energy: 1185.2 kWh\n",
      "  Average daily: 40.9 kWh\n",
      "  Date range: 2025-08-21 to 2025-09-18\n",
      "\n",
      "API_FIRST Strategy:\n",
      "  Records: 29\n",
      "  Total energy: 1185.2 kWh\n",
      "  Average daily: 40.9 kWh\n",
      "  Date range: 2025-08-21 to 2025-09-18\n",
      "\n",
      "CSV_ONLY Strategy:\n",
      "  Records: 27\n",
      "  Total energy: 1098.4 kWh\n",
      "  Average daily: 40.7 kWh\n",
      "  Date range: 2025-08-21 to 2025-09-16\n",
      "\n",
      "RECOMMENDED: csv_first strategy provides:\n",
      "- Complete historical context from CSV\n",
      "- Latest updates from API\n",
      "- Best coverage for ML model training\n"
     ]
    }
   ],
   "execution_count": 3
  },
  {
   "metadata": {
    "ExecuteTime": {
     "end_time": "2025-09-19T04:34:31.677726Z",
     "start_time": "2025-09-19T04:34:31.207538Z"
    }
   },
   "cell_type": "code",
   "source": [
    "# Cell 4: Update System and Integration\n",
    "print(\"=== UPDATE SYSTEM TEST ===\\n\")\n",
    "\n",
    "# Test API update process\n",
    "print(\"Testing API update process...\")\n",
    "update_stats = data_manager.update_from_api(save_cache=True)\n",
    "\n",
    "print(\"Update Results:\")\n",
    "for key, value in update_stats.items():\n",
    "    print(f\"  {key}: {value}\")\n",
    "\n",
    "# Test data export for ML integration\n",
    "print(f\"\\n=== ML INTEGRATION EXPORT ===\")\n",
    "\n",
    "export_success = data_manager.export_combined_dataset(\n",
    "    filename=\"../data/processed/combined_solar_data.csv\",\n",
    "    source_priority=\"csv_first\"\n",
    ")\n",
    "\n",
    "if export_success:\n",
    "    # Verify export\n",
    "    import pandas as pd\n",
    "    exported = pd.read_csv(\"../data/processed/combined_solar_data.csv\", index_col=0, parse_dates=True)\n",
    "\n",
    "    print(f\"Export successful:\")\n",
    "    print(f\"  Combined dataset: {len(exported):,} daily records\")\n",
    "    print(f\"  Date range: {exported.index.min().strftime('%Y-%m-%d')} to {exported.index.max().strftime('%Y-%m-%d')}\")\n",
    "    print(f\"  Total production: {exported['Production (kWh)'].sum():.0f} kWh\")\n",
    "\n",
    "    # Check for recent API data\n",
    "    recent_data = exported.tail(10)\n",
    "    print(f\"\\nMost recent 10 days:\")\n",
    "    for date, row in recent_data.iterrows():\n",
    "        print(f\"    {date.strftime('%Y-%m-%d')}: {row['Production (kWh)']:.1f} kWh\")\n",
    "\n",
    "    print(f\"\\nReady for ML model integration!\")"
   ],
   "id": "d8bf2a7c954d3b8",
   "outputs": [
    {
     "name": "stderr",
     "output_type": "stream",
     "text": [
      "INFO:data_manager:Updating dataset from API\n",
      "INFO:data_manager:Loading API data for last 8 days\n"
     ]
    },
    {
     "name": "stdout",
     "output_type": "stream",
     "text": [
      "=== UPDATE SYSTEM TEST ===\n",
      "\n",
      "Testing API update process...\n"
     ]
    },
    {
     "name": "stderr",
     "output_type": "stream",
     "text": [
      "INFO:data_manager:Loaded 8 API records from 2025-09-11 00:00:00 to 2025-09-18 00:00:00\n",
      "INFO:data_manager:Saved updated daily data to ../data/processed/daily_production_combined.csv\n",
      "INFO:data_manager:Update complete: {'existing_records': 734, 'api_records': 8, 'new_records': 0, 'updated_records': 8}\n",
      "INFO:data_manager:Exported 734 records to ../data/processed/combined_solar_data.csv\n"
     ]
    },
    {
     "name": "stdout",
     "output_type": "stream",
     "text": [
      "Update Results:\n",
      "  existing_records: 734\n",
      "  api_records: 8\n",
      "  new_records: 0\n",
      "  updated_records: 8\n",
      "\n",
      "=== ML INTEGRATION EXPORT ===\n",
      "Export successful:\n",
      "  Combined dataset: 734 daily records\n",
      "  Date range: 2023-09-16 to 2025-09-18\n",
      "  Total production: 27485 kWh\n",
      "\n",
      "Most recent 10 days:\n",
      "    2025-09-09: 48.7 kWh\n",
      "    2025-09-10: 23.2 kWh\n",
      "    2025-09-11: 21.9 kWh\n",
      "    2025-09-12: 50.9 kWh\n",
      "    2025-09-13: 50.7 kWh\n",
      "    2025-09-14: 26.6 kWh\n",
      "    2025-09-15: 23.6 kWh\n",
      "    2025-09-16: 16.7 kWh\n",
      "    2025-09-17: 33.8 kWh\n",
      "    2025-09-18: 53.1 kWh\n",
      "\n",
      "Ready for ML model integration!\n"
     ]
    }
   ],
   "execution_count": 4
  },
  {
   "metadata": {},
   "cell_type": "code",
   "outputs": [],
   "execution_count": null,
   "source": "",
   "id": "d8d3e6eb0f0fdb6d"
  }
 ],
 "metadata": {
  "kernelspec": {
   "display_name": "Python 3",
   "language": "python",
   "name": "python3"
  },
  "language_info": {
   "codemirror_mode": {
    "name": "ipython",
    "version": 2
   },
   "file_extension": ".py",
   "mimetype": "text/x-python",
   "name": "python",
   "nbconvert_exporter": "python",
   "pygments_lexer": "ipython2",
   "version": "2.7.6"
  }
 },
 "nbformat": 4,
 "nbformat_minor": 5
}
