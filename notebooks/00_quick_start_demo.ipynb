{
 "cells": [
  {
   "cell_type": "markdown",
   "metadata": {},
   "source": [
    "# Quick Start Demo - Solar Energy Analysis\n",
    "\n",
    "This notebook provides a quick demonstration using **mock solar data** so you can try the analysis immediately without needing your own solar system data.\n",
    "\n",
    "**Features:**\n",
    "- 🚀 **Ready to run** - uses included mock data\n",
    "- 📊 **3 months** of realistic solar production and consumption data  \n",
    "- 🌤️ **Realistic patterns** - seasonal variations, weather effects, daily curves\n",
    "- 📈 **Full analysis** - production trends, consumption patterns, grid interaction\n",
    "\n",
    "**Note:** This uses mock data generated to mimic a real 10kW residential solar system. For real data analysis, see the other notebooks in this folder."
   ]
  },
  {
   "cell_type": "code",
   "execution_count": null,
   "metadata": {},
   "outputs": [],
   "source": [
    "# Import libraries\n",
    "import sys\n",
    "sys.path.append('../src')\n",
    "\n",
    "from core.data_manager import SolarDataManager\n",
    "import pandas as pd\n",
    "import numpy as np\n",
    "import matplotlib.pyplot as plt\n",
    "import seaborn as sns\n",
    "from pathlib import Path\n",
    "\n",
    "# Set up plotting\n",
    "plt.style.use('default')\n",
    "sns.set_palette(\"husl\")\n",
    "plt.rcParams['figure.figsize'] = (12, 8)\n",
    "\n",
    "print(\"🚀 Quick Start Demo - Solar Energy Analysis\")\n",
    "print(\"=\" * 50)\n",
    "print(\"Using mock data for demonstration purposes\")\n",
    "print()"
   ]
  },
  {
   "cell_type": "markdown",
   "metadata": {},
   "source": [
    "## 1. Load Mock Data\n",
    "\n",
    "We'll use the hybrid data manager with mock data and a mock API client."
   ]
  },
  {
   "cell_type": "code",
   "execution_count": null,
   "metadata": {},
   "outputs": [],
   "source": "# Setup paths for mock data and location\nfrom core.location_loader import create_notebook_location\n\n# Try to get location from .env file for more accurate mock data\nlocation_from_env = create_notebook_location()\nprint(f\"✅ Location configured: {location_from_env.location_name}\")\n\n# Look for location-specific mock data\ncity_name = location_from_env.location_name.split(',')[0].lower().replace(' ', '_').replace('.', '')\nlocation_data_path = f\"../data/raw/mock_solar_data_{city_name}.csv\"\n\nif Path(location_data_path).exists():\n    mock_csv_path = location_data_path\n    print(f\"📊 Using location-specific mock data: {mock_csv_path}\")\nelse:\n    mock_csv_path = \"../data/raw/mock_solar_data.csv\"\n    print(f\"📊 Location-specific data not found, using generic: {mock_csv_path}\")\n    print(f\"💡 Generate location data with: uv run python scripts/generate_mock_data.py {location_from_env.location_name.split(',')[0].lower()}\")\n\n# Check if mock data exists\nif not Path(mock_csv_path).exists():\n    print(\"❌ Mock data not found!\")\n    print(\"Please run: uv run python scripts/generate_mock_data.py\")\n    raise FileNotFoundError(f\"Mock data file not found: {mock_csv_path}\")\n\n# Create mock API client for demo\nclass MockEnphaseClient:\n    def get_energy_lifetime(self, start_date=None, end_date=None):\n        return pd.DataFrame()  # Return empty for demo\n\nmock_client = MockEnphaseClient()\n\n# Initialize data manager with mock data\ndata_manager = SolarDataManager(\n    csv_path=mock_csv_path,\n    enphase_client=mock_client,\n    cache_dir=\"../data/processed\"\n)\n\nprint(f\"✅ Data manager initialized with location-aware data for {location_from_env.location_name}\")\nprint(f\"🌍 Location details: {location_from_env.latitude:.3f}°N, {location_from_env.longitude:.3f}°W, {location_from_env.timezone_str}\")"
  },
  {
   "cell_type": "markdown",
   "metadata": {},
   "source": [
    "## 2. Load and Examine Mock Data"
   ]
  },
  {
   "cell_type": "code",
   "execution_count": null,
   "metadata": {},
   "outputs": [],
   "source": [
    "# Load the mock CSV data\n",
    "csv_data = data_manager.load_csv_data()\n",
    "\n",
    "print(f\"📊 Dataset Information:\")\n",
    "print(f\"  Shape: {csv_data.shape}\")\n",
    "print(f\"  Columns: {list(csv_data.columns)}\")\n",
    "print(f\"  Date range: {csv_data.index.min().date()} to {csv_data.index.max().date()}\")\n",
    "print(f\"  Duration: {(csv_data.index.max() - csv_data.index.min()).days} days\")\n",
    "print(f\"  Total records: {len(csv_data):,} (15-minute intervals)\")\n",
    "\n",
    "print(f\"\\n🔍 Data Quality:\")\n",
    "print(f\"  Missing values: {csv_data.isnull().sum().sum()}\")\n",
    "print(f\"  Data completeness: {len(csv_data) / ((csv_data.index.max() - csv_data.index.min()).days * 96) * 100:.1f}%\")\n",
    "\n",
    "# Display sample data\n",
    "print(f\"\\n📋 Sample Data (first 5 rows):\")\n",
    "print(csv_data.head())\n",
    "\n",
    "# Show some midday data to see production\n",
    "midday_sample = csv_data[csv_data.index.hour == 12].head(8)\n",
    "print(f\"\\n☀️ Sample Midday Production:\")\n",
    "print(midday_sample[['Production (kWh)', 'Consumption (kWh)', 'Export (kWh)']])"
   ]
  },
  {
   "cell_type": "markdown",
   "metadata": {},
   "source": [
    "## 3. Daily Summary Analysis"
   ]
  },
  {
   "cell_type": "code",
   "execution_count": null,
   "metadata": {},
   "outputs": [],
   "source": [
    "# Get daily production data using hybrid approach\n",
    "daily_data = data_manager.get_daily_production(source_priority=\"csv_first\")\n",
    "\n",
    "print(f\"📅 Daily Summary:\")\n",
    "print(f\"  Daily data shape: {daily_data.shape}\")\n",
    "print(f\"  Date range: {daily_data.index.min().date()} to {daily_data.index.max().date()}\")\n",
    "print(f\"  Total days: {len(daily_data)}\")\n",
    "\n",
    "print(f\"\\n⚡ Production Summary:\")\n",
    "print(f\"  Average daily production: {daily_data['Production (kWh)'].mean():.1f} kWh\")\n",
    "print(f\"  Peak daily production: {daily_data['Production (kWh)'].max():.1f} kWh\")\n",
    "print(f\"  Minimum daily production: {daily_data['Production (kWh)'].min():.1f} kWh\")\n",
    "print(f\"  Total production: {daily_data['Production (kWh)'].sum():,.0f} kWh\")\n",
    "\n",
    "print(f\"\\n🏠 Consumption Summary:\")\n",
    "print(f\"  Average daily consumption: {daily_data['Consumption (kWh)'].mean():.1f} kWh\")\n",
    "print(f\"  Peak daily consumption: {daily_data['Consumption (kWh)'].max():.1f} kWh\")\n",
    "print(f\"  Total consumption: {daily_data['Consumption (kWh)'].sum():,.0f} kWh\")\n",
    "\n",
    "# Calculate energy balance\n",
    "net_energy = daily_data['Production (kWh)'] - daily_data['Consumption (kWh)']\n",
    "surplus_days = (net_energy > 0).sum()\n",
    "total_export = daily_data['Export (kWh)'].sum()\n",
    "\n",
    "print(f\"\\n🌐 Grid Interaction:\")\n",
    "print(f\"  Days with energy surplus: {surplus_days} out of {len(daily_data)} ({surplus_days/len(daily_data)*100:.1f}%)\")\n",
    "print(f\"  Total energy exported: {total_export:,.0f} kWh\")\n",
    "print(f\"  Net energy balance: {net_energy.sum():,.0f} kWh\")\n",
    "print(f\"  Self-consumption rate: {(1 - total_export/daily_data['Production (kWh)'].sum())*100:.1f}%\")"
   ]
  },
  {
   "cell_type": "markdown",
   "metadata": {},
   "source": [
    "## 4. Visualize Daily Patterns"
   ]
  },
  {
   "cell_type": "code",
   "execution_count": null,
   "metadata": {},
   "outputs": [],
   "source": [
    "# Create comprehensive daily analysis plots\n",
    "fig, axes = plt.subplots(2, 2, figsize=(16, 12))\n",
    "\n",
    "# 1. Daily production over time\n",
    "axes[0,0].plot(daily_data.index, daily_data['Production (kWh)'], alpha=0.7, linewidth=1.5, label='Production')\n",
    "axes[0,0].plot(daily_data.index, daily_data['Consumption (kWh)'], alpha=0.7, linewidth=1.5, label='Consumption')\n",
    "axes[0,0].set_title('Daily Production vs Consumption Over Time')\n",
    "axes[0,0].set_ylabel('Energy (kWh)')\n",
    "axes[0,0].legend()\n",
    "axes[0,0].grid(True, alpha=0.3)\n",
    "\n",
    "# 2. Production distribution\n",
    "axes[0,1].hist(daily_data['Production (kWh)'], bins=25, alpha=0.7, edgecolor='black', color='orange')\n",
    "axes[0,1].axvline(daily_data['Production (kWh)'].mean(), color='red', linestyle='--', \n",
    "                 label=f\"Mean: {daily_data['Production (kWh)'].mean():.1f} kWh\")\n",
    "axes[0,1].set_title('Daily Production Distribution')\n",
    "axes[0,1].set_xlabel('Daily Production (kWh)')\n",
    "axes[0,1].set_ylabel('Frequency')\n",
    "axes[0,1].legend()\n",
    "axes[0,1].grid(True, alpha=0.3)\n",
    "\n",
    "# 3. Net energy (production - consumption)\n",
    "net_daily = daily_data['Production (kWh)'] - daily_data['Consumption (kWh)']\n",
    "colors = ['red' if x < 0 else 'green' for x in net_daily]\n",
    "axes[1,0].bar(range(len(net_daily)), net_daily, color=colors, alpha=0.6)\n",
    "axes[1,0].axhline(y=0, color='black', linestyle='-', alpha=0.8)\n",
    "axes[1,0].set_title('Daily Net Energy Balance\\n(Green = Surplus, Red = Deficit)')\n",
    "axes[1,0].set_xlabel('Day')\n",
    "axes[1,0].set_ylabel('Net Energy (kWh)')\n",
    "axes[1,0].grid(True, alpha=0.3)\n",
    "\n",
    "# 4. Consumption vs Production scatter\n",
    "axes[1,1].scatter(daily_data['Production (kWh)'], daily_data['Consumption (kWh)'], \n",
    "                 alpha=0.6, s=30)\n",
    "# Add diagonal line (perfect balance)\n",
    "max_val = max(daily_data['Production (kWh)'].max(), daily_data['Consumption (kWh)'].max())\n",
    "axes[1,1].plot([0, max_val], [0, max_val], 'r--', alpha=0.7, label='Perfect Balance')\n",
    "axes[1,1].set_title('Daily Consumption vs Production')\n",
    "axes[1,1].set_xlabel('Production (kWh)')\n",
    "axes[1,1].set_ylabel('Consumption (kWh)')\n",
    "axes[1,1].legend()\n",
    "axes[1,1].grid(True, alpha=0.3)\n",
    "\n",
    "plt.tight_layout()\n",
    "plt.show()"
   ]
  },
  {
   "cell_type": "markdown",
   "metadata": {},
   "source": [
    "## 5. Analyze Typical Day Patterns"
   ]
  },
  {
   "cell_type": "code",
   "execution_count": null,
   "metadata": {},
   "outputs": [],
   "source": [
    "# Analyze average hourly patterns\n",
    "csv_data['hour'] = csv_data.index.hour\n",
    "hourly_patterns = csv_data.groupby('hour').agg({\n",
    "    'Production (kWh)': 'mean',\n",
    "    'Consumption (kWh)': 'mean',\n",
    "    'Export (kWh)': 'mean',\n",
    "    'Import (kWh)': 'mean'\n",
    "})\n",
    "\n",
    "# Create hourly pattern visualization\n",
    "fig, axes = plt.subplots(1, 2, figsize=(16, 6))\n",
    "\n",
    "# Hourly production and consumption\n",
    "hours = hourly_patterns.index\n",
    "axes[0].plot(hours, hourly_patterns['Production (kWh)'] * 4, label='Production', linewidth=2, marker='o')\n",
    "axes[0].plot(hours, hourly_patterns['Consumption (kWh)'] * 4, label='Consumption', linewidth=2, marker='s')\n",
    "axes[0].set_title('Average Hourly Energy Patterns')\n",
    "axes[0].set_xlabel('Hour of Day')\n",
    "axes[0].set_ylabel('Average Hourly Energy (kWh)')\n",
    "axes[0].legend()\n",
    "axes[0].grid(True, alpha=0.3)\n",
    "axes[0].set_xticks(range(0, 24, 2))\n",
    "\n",
    "# Grid import/export patterns\n",
    "axes[1].fill_between(hours, 0, hourly_patterns['Export (kWh)'] * 4, \n",
    "                    alpha=0.6, label='Export to Grid', color='green')\n",
    "axes[1].fill_between(hours, 0, -hourly_patterns['Import (kWh)'] * 4, \n",
    "                    alpha=0.6, label='Import from Grid', color='red')\n",
    "axes[1].axhline(y=0, color='black', linestyle='-', alpha=0.8)\n",
    "axes[1].set_title('Grid Interaction Patterns')\n",
    "axes[1].set_xlabel('Hour of Day')\n",
    "axes[1].set_ylabel('Grid Energy Flow (kWh)\\n(+ Export, - Import)')\n",
    "axes[1].legend()\n",
    "axes[1].grid(True, alpha=0.3)\n",
    "axes[1].set_xticks(range(0, 24, 2))\n",
    "\n",
    "plt.tight_layout()\n",
    "plt.show()\n",
    "\n",
    "# Print key insights\n",
    "peak_production_hour = hourly_patterns['Production (kWh)'].idxmax()\n",
    "peak_consumption_hour = hourly_patterns['Consumption (kWh)'].idxmax()\n",
    "max_export_hour = hourly_patterns['Export (kWh)'].idxmax()\n",
    "\n",
    "print(f\"\\n🔍 Key Insights:\")\n",
    "print(f\"  Peak production time: {peak_production_hour}:00 ({hourly_patterns.loc[peak_production_hour, 'Production (kWh)']*4:.1f} kWh/hour)\")\n",
    "print(f\"  Peak consumption time: {peak_consumption_hour}:00 ({hourly_patterns.loc[peak_consumption_hour, 'Consumption (kWh)']*4:.1f} kWh/hour)\")\n",
    "print(f\"  Peak export time: {max_export_hour}:00 ({hourly_patterns.loc[max_export_hour, 'Export (kWh)']*4:.1f} kWh/hour)\")\n",
    "\n",
    "# Solar production hours (when production > 0)\n",
    "production_hours = hourly_patterns[hourly_patterns['Production (kWh)'] > 0.01]\n",
    "print(f\"  Solar production hours: {production_hours.index.min()}:00 to {production_hours.index.max()}:00\")\n",
    "print(f\"  Daily solar production window: {len(production_hours)} hours\")"
   ]
  },
  {
   "cell_type": "markdown",
   "metadata": {},
   "source": [
    "## 6. Basic Financial Analysis"
   ]
  },
  {
   "cell_type": "code",
   "execution_count": null,
   "metadata": {},
   "outputs": [],
   "source": "# Location-based financial analysis with mock data\nfrom core.location_loader import get_location_electricity_rates\nimport os\n\n# Get location-specific electricity rates\nnrel_api_key = os.environ.get('NREL_API_KEY')\nelectricity_rates = get_location_electricity_rates(location_from_env, nrel_api_key)\n\n# Extract rates (convert from cents/kWh to $/kWh)\nELECTRICITY_RATE = electricity_rates['annual_cost_per_kwh']  # $/kWh\nFEED_IN_TARIFF = electricity_rates['feed_in_rate_per_kwh']  # $/kWh for exported energy\n\nprint(f\"🔌 Location-Based Electricity Rates for {location_from_env.location_name}:\")\nprint(f\"  Residential rate: {electricity_rates['residential_rate']:.2f}¢/kWh (${ELECTRICITY_RATE:.4f}/kWh)\")\nprint(f\"  Feed-in tariff: {electricity_rates['feed_in_tariff']:.2f}¢/kWh (${FEED_IN_TARIFF:.4f}/kWh)\")\nprint(f\"  Rate source: {electricity_rates['source']}\")\nif electricity_rates['national_comparison']['is_above_average']:\n    print(f\"  📈 {electricity_rates['national_comparison']['vs_national_avg']:.2f}¢ above national average\")\nelse:\n    print(f\"  📉 {abs(electricity_rates['national_comparison']['vs_national_avg']):.2f}¢ below national average\")\n\n# Calculate savings and earnings\ntotal_production = daily_data['Production (kWh)'].sum()\ntotal_consumption = daily_data['Consumption (kWh)'].sum()\ntotal_export = daily_data['Export (kWh)'].sum()\ntotal_import = daily_data['Import (kWh)'].sum()\n\n# Self-consumed solar (production - export)\nself_consumed = total_production - total_export\n\n# Financial calculations using location-specific rates\nsavings_from_self_consumption = self_consumed * ELECTRICITY_RATE\nearnings_from_export = total_export * FEED_IN_TARIFF\ncost_of_imported_energy = total_import * ELECTRICITY_RATE\n\ntotal_solar_benefit = savings_from_self_consumption + earnings_from_export\nnet_electricity_cost = cost_of_imported_energy - earnings_from_export\n\n# Project to annual figures\ndays_in_period = len(daily_data)\nannual_multiplier = 365 / days_in_period\n\nprint(f\"\\n💰 Location-Specific Financial Analysis ({days_in_period} days of mock data):\")\nprint(f\"  Using {location_from_env.location_name} electricity rates\")\nprint()\nprint(f\"📊 Energy Summary:\")\nprint(f\"  Total solar production: {total_production:.0f} kWh\")\nprint(f\"  Self-consumed solar: {self_consumed:.0f} kWh ({self_consumed/total_production*100:.1f}%)\")\nprint(f\"  Exported to grid: {total_export:.0f} kWh ({total_export/total_production*100:.1f}%)\")\nprint(f\"  Imported from grid: {total_import:.0f} kWh\")\nprint()\nprint(f\"💵 Financial Benefits (period):\")\nprint(f\"  Savings from self-consumption: ${savings_from_self_consumption:.0f}\")\nprint(f\"  Earnings from exports: ${earnings_from_export:.0f}\")\nprint(f\"  Total solar benefit: ${total_solar_benefit:.0f}\")\nprint(f\"  Cost of imported energy: ${cost_of_imported_energy:.0f}\")\nprint(f\"  Net electricity cost: ${net_electricity_cost:.0f}\")\nprint()\nprint(f\"📈 Projected Annual Figures:\")\nprint(f\"  Annual solar production: ~{total_production * annual_multiplier:.0f} kWh\")\nprint(f\"  Annual solar benefit: ~${total_solar_benefit * annual_multiplier:.0f}\")\nprint(f\"  Annual electricity cost: ~${net_electricity_cost * annual_multiplier:.0f}\")\nprint()\nprint(f\"📉 Without Solar (estimated):\")\nwithout_solar_cost = total_consumption * ELECTRICITY_RATE\nprint(f\"  Total electricity cost: ${without_solar_cost:.0f}\")\nprint(f\"  Annual electricity cost: ~${without_solar_cost * annual_multiplier:.0f}\")\nsolar_savings = without_solar_cost - net_electricity_cost\nprint(f\"  Solar savings vs no solar: ${solar_savings:.0f} ({(solar_savings/without_solar_cost)*100:.1f}% reduction)\")\nprint()\nprint(f\"💡 Rate Impact Analysis:\")\n# Compare with national average\nnational_avg_benefit = total_solar_benefit * (0.1622 / ELECTRICITY_RATE)  # Scale by rate difference\nrate_advantage = total_solar_benefit - national_avg_benefit\nif rate_advantage > 0:\n    print(f\"  Your local rates make solar ${abs(rate_advantage):.0f} MORE valuable than national average\")\nelse:\n    print(f\"  Your local rates make solar ${abs(rate_advantage):.0f} LESS valuable than national average\")"
  },
  {
   "cell_type": "markdown",
   "metadata": {},
   "source": [
    "## 7. Summary and Next Steps"
   ]
  },
  {
   "cell_type": "code",
   "execution_count": null,
   "metadata": {},
   "outputs": [],
   "source": [
    "# Data source summary\n",
    "summary = data_manager.get_data_summary()\n",
    "\n",
    "print(\"🎯 QUICK START DEMO SUMMARY\")\n",
    "print(\"=\" * 40)\n",
    "print(f\"\\n📊 Dataset Overview:\")\n",
    "print(f\"  Source: Mock solar data (demonstration)\")\n",
    "print(f\"  Records: {summary['csv']['records']:,} (15-minute intervals)\")\n",
    "print(f\"  Duration: {days_in_period} days\")\n",
    "print(f\"  System type: Simulated 10kW residential solar\")\n",
    "\n",
    "print(f\"\\n⚡ System Performance:\")\n",
    "print(f\"  Average daily production: {daily_data['Production (kWh)'].mean():.1f} kWh\")\n",
    "print(f\"  Best production day: {daily_data['Production (kWh)'].max():.1f} kWh\")\n",
    "print(f\"  Energy self-sufficiency: {(1 - total_import/total_consumption)*100:.1f}%\")\n",
    "print(f\"  Solar contribution: {(self_consumed/total_consumption)*100:.1f}% of consumption\")\n",
    "\n",
    "print(f\"\\n🌐 Data Sources:\")\n",
    "print(f\"  CSV Data: {summary['csv']['available']} ({summary['csv']['records']:,} records)\")\n",
    "print(f\"  API Data: {summary['api']['available']} (Mock client: {summary['api']['is_mock']})\")\n",
    "\n",
    "print(f\"\\n✅ Demo Complete!\")\n",
    "print(f\"\\n🚀 Next Steps:\")\n",
    "print(f\"  1. Try the other notebooks with your own solar data\")\n",
    "print(f\"  2. Set up real Enphase API credentials for live data\")\n",
    "print(f\"  3. Explore seasonal analysis: 01b_seasonal_and_temporal_analysis.ipynb\")\n",
    "print(f\"  4. Build ML models: 01c_baseline_ml_models.ipynb\")\n",
    "print(f\"  5. Generate your own mock data: uv run python scripts/generate_mock_data.py\")\n",
    "\n",
    "print(f\"\\n📚 Documentation:\")\n",
    "print(f\"  - README.md: Setup instructions and API configuration\")\n",
    "print(f\"  - All notebooks work with both mock and real data\")\n",
    "print(f\"  - Mock data simulates realistic solar system behavior\")\n",
    "\n",
    "print(f\"\\n🎉 Thank you for trying the Solar Energy Analysis project!\")"
   ]
  }
 ],
 "metadata": {
  "kernelspec": {
   "display_name": "Python 3",
   "language": "python",
   "name": "python3"
  },
  "language_info": {
   "codemirror_mode": {
    "name": "ipython",
    "version": 3
   },
   "file_extension": ".py",
   "mimetype": "text/x-python",
   "name": "python",
   "nbconvert_exporter": "python",
   "pygments_lexer": "ipython3",
   "version": "3.11.0"
  }
 },
 "nbformat": 4,
 "nbformat_minor": 4
}