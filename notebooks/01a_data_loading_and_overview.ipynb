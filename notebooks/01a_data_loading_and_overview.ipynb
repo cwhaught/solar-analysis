{
 "cells": [
  {
   "cell_type": "markdown",
   "metadata": {},
   "source": [
    "# Solar Energy Data Loading and Overview\n",
    "\n",
    "This notebook demonstrates how to load and get an overview of solar energy data using the hybrid CSV/API approach.\n",
    "\n",
    "**Key Features:**\n",
    "- Load historical CSV data (2+ years of 15-minute intervals)\n",
    "- Load recent API data for up-to-date information\n",
    "- Combine data sources intelligently\n",
    "- Basic data validation and statistics"
   ]
  },
  {
   "cell_type": "code",
   "metadata": {
    "ExecuteTime": {
     "end_time": "2025-09-26T01:59:12.801876Z",
     "start_time": "2025-09-26T01:59:12.732438Z"
    }
   },
   "source": "# Import libraries\nimport sys\nsys.path.append('../src')\n\nfrom core.data_manager import SolarDataManager\nfrom core.enphase_client import EnphaseClient\nfrom visualization.solar_charts import SolarVisualizationSuite\nimport pandas as pd\nimport matplotlib.pyplot as plt\nimport seaborn as sns\nfrom pathlib import Path\n\n# Set up plotting\nplt.style.use('default')\nsns.set_palette(\"husl\")\n\nprint(\"📊 Solar Energy Data Analysis - Data Loading & Overview\")\nprint(\"=\" * 60)",
   "outputs": [
    {
     "name": "stdout",
     "output_type": "stream",
     "text": [
      "📊 Solar Energy Data Analysis - Data Loading & Overview\n",
      "============================================================\n"
     ]
    },
    {
     "name": "stderr",
     "output_type": "stream",
     "text": [
      "/Users/christopherhaught/projects/power-usage-and-consumption/.venv/lib/python3.9/site-packages/urllib3/__init__.py:35: NotOpenSSLWarning: urllib3 v2 only supports OpenSSL 1.1.1+, currently the 'ssl' module is compiled with 'LibreSSL 2.8.3'. See: https://github.com/urllib3/urllib3/issues/3020\n",
      "  warnings.warn(\n"
     ]
    }
   ],
   "execution_count": 1
  },
  {
   "cell_type": "markdown",
   "metadata": {},
   "source": [
    "## 1. Initialize Hybrid Data Manager\n",
    "\n",
    "We'll use the SolarDataManager which combines CSV historical data with live API updates."
   ]
  },
  {
   "cell_type": "code",
   "metadata": {
    "ExecuteTime": {
     "end_time": "2025-09-26T01:59:12.815368Z",
     "start_time": "2025-09-26T01:59:12.806020Z"
    }
   },
   "source": "# Initialize data manager using smart data source detection\nfrom core.data_source_detector import DataSourceDetector\nfrom core.location_loader import create_notebook_location\n\n# Initialize location from .env (with fallback to Denver)\nlocation = create_notebook_location()\nprint(f\"🌍 Location configured: {location.location_name}\")\nprint(f\"📍 Coordinates: {location.latitude:.3f}°N, {location.longitude:.3f}°W\")\n\n# Initialize the smart data source detector\ndetector = DataSourceDetector(location=location)\n\n# Determine the optimal data loading strategy\nstrategy = detector.determine_data_strategy()\n\n# Initialize data manager with the detected strategy\ndata_manager = SolarDataManager(\n    csv_path=strategy['csv_path'], \n    enphase_client=strategy['client'],\n    cache_dir=\"../data/processed\"\n)\n\nprint(\"✅ Data manager initialized with location-aware configuration\")",
   "outputs": [
    {
     "name": "stdout",
     "output_type": "stream",
     "text": [
      "🌍 Location configured: Holly Springs, NC\n",
      "📍 Coordinates: 35.663°N, -78.844°W\n",
      "📊 Determining Best Data Source...\n",
      "✅ Using REAL Enphase API credentials!\n",
      "   📈 Will attempt to fetch live data from your solar system\n",
      "   🎯 PRIORITY: Real Enphase API data from your solar system\n",
      "   📡 Will attempt live API data first\n",
      "   📁 CSV fallback: ../data/raw/4136754_custom_report.csv\n",
      "\n",
      "📋 Available Data Sources (in priority order):\n",
      "   🎯 SELECTED: 📈 REAL CSV DATA - Real solar panel CSV data through 2025\n",
      "      Available: 🎭 SYNTHETIC/MOCK DATA - Synthetic data for Holly Springs, NC (ends June 2024)\n",
      "      Available: 🎭 GENERIC MOCK DATA - Generic synthetic data (ends March 2024)\n",
      "✅ Data manager initialized with location-aware configuration\n"
     ]
    }
   ],
   "execution_count": 2
  },
  {
   "cell_type": "markdown",
   "metadata": {},
   "source": [
    "## 2. Load and Examine CSV Data"
   ]
  },
  {
   "cell_type": "code",
   "metadata": {
    "ExecuteTime": {
     "end_time": "2025-09-26T01:59:13.050185Z",
     "start_time": "2025-09-26T01:59:12.822427Z"
    }
   },
   "source": "# Load CSV data using smart data source detection\ncsv_data = data_manager.load_csv_data()\n\n# Get comprehensive data summary and recency analysis\ndata_summary = data_manager.get_data_summary()\nrecency_info = detector.analyze_data_recency(csv_data, data_summary)\n\n# Generate comprehensive data source report\ndetector.generate_final_report(strategy, data_summary, recency_info)\n\nprint(f\"\\nDataset shape: {csv_data.shape}\")\nprint(f\"Columns: {list(csv_data.columns)}\")\nprint(f\"Date range: {csv_data.index.min()} to {csv_data.index.max()}\")\nprint(f\"Data granularity: {csv_data.attrs.get('granularity', 'unknown')}\")\nprint(f\"Total records: {len(csv_data):,}\")\n\n# Display first few rows\nprint(\"\\n=== First 5 rows ===\")\nprint(csv_data.head())\n\n# Check for missing data\nprint(\"\\n=== Missing values ===\")\nprint(csv_data.isnull().sum())",
   "outputs": [
    {
     "name": "stderr",
     "output_type": "stream",
     "text": [
      "INFO:core.data_manager:Loading CSV data from ../data/raw/4136754_custom_report.csv\n",
      "INFO:core.data_manager:Loaded 70272 CSV records from 2023-09-16 00:00:00 to 2025-09-16 23:45:00\n",
      "INFO:core.data_manager:Loading API data for last 30 days\n",
      "WARNING:core.data_manager:No API data retrieved\n"
     ]
    },
    {
     "name": "stdout",
     "output_type": "stream",
     "text": [
      "Error getting lifetime energy: 401\n",
      "\n",
      "📈 Solar Data Loaded Successfully:\n",
      "   🎯 DATA TYPE: 📈 REAL API DATA (with CSV fallback)\n",
      "   📡 Source: 📁 CSV DATA\n",
      "   📁 Source: CSV file (API failed, using fallback)\n",
      "   📊 CSV Records: 70,272\n",
      "   📅 CSV Date range: 2023-09-16 to 2025-09-16\n",
      "   📅 Data recency: ✅ RECENT (8 days old)\n",
      "   🕐 Latest data point: 2025-09-16\n",
      "\n",
      "✅ SUCCESS: Using REAL solar production data!\n",
      "   📈 Authentic solar panel data (not synthetic)\n",
      "   📊 Contains data through 2025\n",
      "   ℹ️ Note: API returned 401 (expired token), but CSV data is recent\n",
      "\n",
      "Dataset shape: (70272, 4)\n",
      "Columns: ['Production (kWh)', 'Consumption (kWh)', 'Export (kWh)', 'Import (kWh)']\n",
      "Date range: 2023-09-16 00:00:00 to 2025-09-16 23:45:00\n",
      "Data granularity: 15min\n",
      "Total records: 70,272\n",
      "\n",
      "=== First 5 rows ===\n",
      "                     Production (kWh)  Consumption (kWh)  Export (kWh)  \\\n",
      "Date/Time                                                                \n",
      "2023-09-16 00:00:00               0.0              0.110           0.0   \n",
      "2023-09-16 00:15:00               0.0              0.072           0.0   \n",
      "2023-09-16 00:30:00               0.0              0.098           0.0   \n",
      "2023-09-16 00:45:00               0.0              0.099           0.0   \n",
      "2023-09-16 01:00:00               0.0              0.080           0.0   \n",
      "\n",
      "                     Import (kWh)  \n",
      "Date/Time                          \n",
      "2023-09-16 00:00:00         0.110  \n",
      "2023-09-16 00:15:00         0.072  \n",
      "2023-09-16 00:30:00         0.098  \n",
      "2023-09-16 00:45:00         0.099  \n",
      "2023-09-16 01:00:00         0.080  \n",
      "\n",
      "=== Missing values ===\n",
      "Production (kWh)     0\n",
      "Consumption (kWh)    0\n",
      "Export (kWh)         0\n",
      "Import (kWh)         0\n",
      "dtype: int64\n"
     ]
    }
   ],
   "execution_count": 3
  },
  {
   "cell_type": "markdown",
   "metadata": {},
   "source": [
    "## 3. Basic Statistics and Data Quality"
   ]
  },
  {
   "cell_type": "code",
   "metadata": {
    "ExecuteTime": {
     "end_time": "2025-09-26T01:59:13.068101Z",
     "start_time": "2025-09-26T01:59:13.057474Z"
    }
   },
   "source": [
    "# Basic statistics\n",
    "print(\"=== DATA QUALITY SUMMARY ===\")\n",
    "print(f\"Data spans {(csv_data.index.max() - csv_data.index.min()).days} days\")\n",
    "print(f\"Expected 15-min intervals: {(csv_data.index.max() - csv_data.index.min()).days * 96:,}\")\n",
    "print(f\"Actual intervals: {len(csv_data):,}\")\n",
    "print(f\"Data completeness: {len(csv_data) / ((csv_data.index.max() - csv_data.index.min()).days * 96) * 100:.1f}%\")\n",
    "\n",
    "# Statistical summary\n",
    "print(\"\\n=== STATISTICAL SUMMARY ===\")\n",
    "print(csv_data.describe())"
   ],
   "outputs": [
    {
     "name": "stdout",
     "output_type": "stream",
     "text": [
      "=== DATA QUALITY SUMMARY ===\n",
      "Data spans 731 days\n",
      "Expected 15-min intervals: 70,176\n",
      "Actual intervals: 70,272\n",
      "Data completeness: 100.1%\n",
      "\n",
      "=== STATISTICAL SUMMARY ===\n",
      "       Production (kWh)  Consumption (kWh)  Export (kWh)  Import (kWh)\n",
      "count       70272.00000       70272.000000  70272.000000  70272.000000\n",
      "mean            0.38989           0.374809      0.256440      0.241360\n",
      "std             0.61609           0.509354      0.500361      0.469741\n",
      "min             0.00000           0.000000      0.000000      0.000000\n",
      "25%             0.00000           0.112000      0.000000      0.000000\n",
      "50%             0.00200           0.180000      0.000000      0.099000\n",
      "75%             0.57425           0.409000      0.196000      0.245000\n",
      "max             1.91800           5.364000      1.857000      5.119000\n"
     ]
    }
   ],
   "execution_count": 4
  },
  {
   "cell_type": "markdown",
   "metadata": {},
   "source": [
    "## 4. Create Daily Summary Data"
   ]
  },
  {
   "cell_type": "code",
   "metadata": {
    "ExecuteTime": {
     "end_time": "2025-09-26T01:59:13.082642Z",
     "start_time": "2025-09-26T01:59:13.074856Z"
    }
   },
   "source": [
    "# Get daily production data using hybrid approach\n",
    "daily_data = data_manager.get_daily_production(source_priority=\"csv_first\")\n",
    "\n",
    "print(f\"Daily data shape: {daily_data.shape}\")\n",
    "print(f\"Date range: {daily_data.index.min().date()} to {daily_data.index.max().date()}\")\n",
    "\n",
    "# Basic daily statistics\n",
    "print(\"\\n=== DAILY PRODUCTION SUMMARY ===\")\n",
    "print(f\"Average daily production: {daily_data['Production (kWh)'].mean():.1f} kWh\")\n",
    "print(f\"Peak daily production: {daily_data['Production (kWh)'].max():.1f} kWh\")\n",
    "print(f\"Minimum daily production: {daily_data['Production (kWh)'].min():.1f} kWh\")\n",
    "print(f\"Total production over period: {daily_data['Production (kWh)'].sum():,.0f} kWh\")\n",
    "\n",
    "if 'Consumption (kWh)' in daily_data.columns:\n",
    "    print(f\"\\nAverage daily consumption: {daily_data['Consumption (kWh)'].mean():.1f} kWh\")\n",
    "    net_energy = daily_data['Production (kWh)'] - daily_data['Consumption (kWh)']\n",
    "    surplus_days = (net_energy > 0).sum()\n",
    "    print(f\"Days with energy surplus: {surplus_days} out of {len(daily_data)} ({surplus_days/len(daily_data)*100:.1f}%)\")"
   ],
   "outputs": [
    {
     "name": "stdout",
     "output_type": "stream",
     "text": [
      "Daily data shape: (732, 4)\n",
      "Date range: 2023-09-16 to 2025-09-16\n",
      "\n",
      "=== DAILY PRODUCTION SUMMARY ===\n",
      "Average daily production: 37.4 kWh\n",
      "Peak daily production: 61.3 kWh\n",
      "Minimum daily production: 0.6 kWh\n",
      "Total production over period: 27,398 kWh\n",
      "\n",
      "Average daily consumption: 36.0 kWh\n",
      "Days with energy surplus: 404 out of 732 (55.2%)\n"
     ]
    }
   ],
   "execution_count": 5
  },
  {
   "cell_type": "markdown",
   "metadata": {},
   "source": [
    "## 5. Quick Data Visualization"
   ]
  },
  {
   "cell_type": "code",
   "metadata": {
    "ExecuteTime": {
     "end_time": "2025-09-26T01:59:14.159964Z",
     "start_time": "2025-09-26T01:59:13.087803Z"
    }
   },
   "source": "# Initialize SolarVisualizationSuite for professional charts\nviz_suite = SolarVisualizationSuite(style='default')\n\n# Prepare data for visualization\nviz_data = daily_data.reset_index().rename(columns={\n    'Date/Time': 'date',\n    'Production (kWh)': 'production'\n})\n\n# Ensure plots directory exists\nfrom pathlib import Path\nPath(\"../plots\").mkdir(exist_ok=True)\n\n# Create comprehensive production overview dashboard\nprint(\"🎨 Creating comprehensive production overview dashboard...\")\ndashboard_fig = viz_suite.create_production_overview_dashboard(\n    daily_data=viz_data,\n    title=\"Solar Production Overview Dashboard\",\n    save_path=\"../plots/production_overview_dashboard.png\"\n)\n\nplt.show()\n\nprint(\"✨ Dashboard created successfully!\")\nprint(\"📄 Saved to: ../plots/production_overview_dashboard.png\")",
   "outputs": [],
   "execution_count": null
  },
  {
   "cell_type": "markdown",
   "metadata": {},
   "source": [
    "## 6. Data Source Summary"
   ]
  },
  {
   "cell_type": "code",
   "metadata": {
    "ExecuteTime": {
     "end_time": "2025-09-26T01:59:14.167879Z",
     "start_time": "2025-09-24T15:51:39.944545Z"
    }
   },
   "source": "# Get data source summary\nsummary = data_manager.get_data_summary()\n\nprint(\"=== DATA SOURCES SUMMARY ===\")\nprint(f\"\\n📁 CSV Data:\")\nprint(f\"  Available: {summary['csv']['available']}\")\nprint(f\"  Records: {summary['csv']['records']:,}\")\nprint(f\"  Date range: {summary['csv']['date_range']}\")\nprint(f\"  Granularity: {summary['csv']['granularity']}\")\n\nprint(f\"\\n🌐 API Data:\")\nprint(f\"  Client type: {'Mock (demo mode)' if summary['api']['is_mock'] else 'Real Enphase API'}\")\nprint(f\"  Available: {summary['api']['available']}\")\nprint(f\"  Records: {summary['api']['records']:,}\")\nprint(f\"  Date range: {summary['api']['date_range']}\")\nprint(f\"  Granularity: {summary['api']['granularity']}\")\n\nprint(\"\\n✅ Data loading and overview complete!\")\nprint(\"\\nNext steps:\")\nprint(\"- Run 01b_seasonal_and_temporal_analysis.ipynb for detailed time series analysis\")\nprint(\"- Run 01c_baseline_ml_models.ipynb for machine learning models\")",
   "outputs": [
    {
     "name": "stdout",
     "output_type": "stream",
     "text": [
      "=== DATA SOURCES SUMMARY ===\n",
      "\n",
      "📁 CSV Data:\n",
      "  Available: True\n",
      "  Records: 70,272\n",
      "  Date range: ('2023-09-16', '2025-09-16')\n",
      "  Granularity: 15min\n",
      "\n",
      "🌐 API Data:\n",
      "  Client type: Real Enphase API\n",
      "  Available: False\n",
      "  Records: 0\n",
      "  Date range: None\n",
      "  Granularity: None\n",
      "\n",
      "✅ Data loading and overview complete!\n",
      "\n",
      "Next steps:\n",
      "- Run 01b_seasonal_and_temporal_analysis.ipynb for detailed time series analysis\n",
      "- Run 01c_baseline_ml_models.ipynb for machine learning models\n"
     ]
    }
   ],
   "execution_count": 7
  }
 ],
 "metadata": {
  "kernelspec": {
   "display_name": "Python 3",
   "language": "python",
   "name": "python3"
  },
  "language_info": {
   "codemirror_mode": {
    "name": "ipython",
    "version": 3
   },
   "file_extension": ".py",
   "mimetype": "text/x-python",
   "name": "python",
   "nbconvert_exporter": "python",
   "pygments_lexer": "ipython3",
   "version": "3.9.6"
  }
 },
 "nbformat": 4,
 "nbformat_minor": 4
}